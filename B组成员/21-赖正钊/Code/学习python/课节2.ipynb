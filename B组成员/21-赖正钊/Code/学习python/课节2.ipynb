{
 "cells": [
  {
   "cell_type": "markdown",
   "metadata": {},
   "source": [
    "# 一、字符串索引、切片\n",
    "切片语法：  \n",
    "<字符串名>[起始:结束:步长]\n",
    "\n",
    "默认截取方向：从左往右  \n",
    "起始默认值：0  \n",
    "结束默认值：结尾元素  \n",
    "区间：左闭右开（闭：取，开：不取）  \n",
    "步长默认值：1  \n",
    "\n",
    "如果切片步长是负值，截取方向则是从右往左的"
   ]
  },
  {
   "cell_type": "code",
   "execution_count": 4,
   "metadata": {},
   "outputs": [
    {
     "name": "stdout",
     "output_type": "stream",
     "text": [
      "<class 'str'>\n",
      "<class 'str'>\n"
     ]
    }
   ],
   "source": [
    "\"\"\"Python 不支持单字符类型，单字符在 Python 中也是作为一个字符串使用。\"\"\"\n",
    "\n",
    "print(type('s'))\n",
    "print(type(\"s\"))"
   ]
  },
  {
   "cell_type": "code",
   "execution_count": 7,
   "metadata": {},
   "outputs": [
    {
     "name": "stdout",
     "output_type": "stream",
     "text": [
      "loW\n",
      "dlroW olleH\n",
      "drWolH\n"
     ]
    }
   ],
   "source": [
    "string = \"Hello World\"\n",
    "print(string[2:7:2])\n",
    "print(string[::-1])\n",
    "print(string[::-2])"
   ]
  },
  {
   "cell_type": "markdown",
   "metadata": {},
   "source": [
    "# 二、字符串常用函数"
   ]
  },
  {
   "cell_type": "markdown",
   "metadata": {},
   "source": [
    "字符串的变形  \n",
    "string.upper()          # 全部大写  \n",
    "string.lower()          # 全部小写  \n",
    "string.capitalize()     # 首字母大写"
   ]
  },
  {
   "cell_type": "code",
   "execution_count": 13,
   "metadata": {},
   "outputs": [
    {
     "name": "stdout",
     "output_type": "stream",
     "text": [
      "HELLO WORLD\n",
      "hello world\n",
      "Hello world\n"
     ]
    }
   ],
   "source": [
    "string = \"heLlO WorlD\"\n",
    "print(string.upper())\n",
    "print(string.lower())\n",
    "print(string.capitalize())"
   ]
  },
  {
   "cell_type": "markdown",
   "metadata": {},
   "source": [
    "count 计数功能  \n",
    "string.count('xx')  \n",
    "\n",
    "找出自定字符在字符串当中的个数（不重复计次）  "
   ]
  },
  {
   "cell_type": "code",
   "execution_count": 11,
   "metadata": {},
   "outputs": [
    {
     "name": "stdout",
     "output_type": "stream",
     "text": [
      "2\n",
      "1\n"
     ]
    }
   ],
   "source": [
    "string = 'hello hello world hihihi'\n",
    "print(string.count('hello'))\n",
    "\n",
    "string1 = 'aabcabca'\n",
    "print(string1.count('abca'))"
   ]
  },
  {
   "cell_type": "markdown",
   "metadata": {},
   "source": [
    "find 查找功能  \n",
    "string.find('xx')  \n",
    "\n",
    "返回从左数的第一个指定字符的索引，找不到返回-1  \n",
    "\n",
    "index 查找功能  \n",
    "string.index('xx')  \n",
    "  \n",
    "返回从左数的第一个指定字符的索引，找不到报错  \n",
    "  \n",
    "\n",
    "条件判断（判断字符串的有无）：  \n",
    "1、'xxxx' in <变量>  \n",
    "2、string.startswith('xx')   # string是否以 xx 开始  \n",
    "3、string.endswith('xx')     # string是否以 xx 结尾\n",
    "\n",
    "返回值：True or False  "
   ]
  },
  {
   "cell_type": "code",
   "execution_count": 6,
   "metadata": {},
   "outputs": [
    {
     "name": "stdout",
     "output_type": "stream",
     "text": [
      "4\n",
      "4\n",
      "12\n"
     ]
    },
    {
     "ename": "ValueError",
     "evalue": "substring not found",
     "output_type": "error",
     "traceback": [
      "\u001b[1;31m---------------------------------------------------------------------------\u001b[0m",
      "\u001b[1;31mValueError\u001b[0m                                Traceback (most recent call last)",
      "Cell \u001b[1;32mIn [6], line 7\u001b[0m\n\u001b[0;32m      5\u001b[0m string2 \u001b[39m=\u001b[39m \u001b[39m'\u001b[39m\u001b[39mhello hello world and u\u001b[39m\u001b[39m'\u001b[39m\n\u001b[0;32m      6\u001b[0m \u001b[39mprint\u001b[39m(string1\u001b[39m.\u001b[39mfind(\u001b[39m'\u001b[39m\u001b[39mand\u001b[39m\u001b[39m'\u001b[39m))\n\u001b[1;32m----> 7\u001b[0m \u001b[39mprint\u001b[39m(string2\u001b[39m.\u001b[39;49mindex(\u001b[39m'\u001b[39;49m\u001b[39mwhat\u001b[39;49m\u001b[39m'\u001b[39;49m))\n",
      "\u001b[1;31mValueError\u001b[0m: substring not found"
     ]
    }
   ],
   "source": [
    "string1 = 'hello world and u'\n",
    "print(string1.find('o'))\n",
    "print(string1.index('o'))\n",
    "\n",
    "string2 = 'hello hello world and u'\n",
    "print(string1.find('and'))\n",
    "print(string2.index('what'))    # 找不到需检索的字符(串)，报错"
   ]
  },
  {
   "cell_type": "code",
   "execution_count": 7,
   "metadata": {},
   "outputs": [
    {
     "name": "stdout",
     "output_type": "stream",
     "text": [
      "True\n",
      "True\n",
      "False\n"
     ]
    }
   ],
   "source": [
    "article = 'hello world and you'\n",
    "print( 'and' in  article)\n",
    "print(article.startswith('hello'))\n",
    "print(article.endswith('world'))"
   ]
  },
  {
   "cell_type": "markdown",
   "metadata": {},
   "source": [
    "split 字符串的拆分   \n",
    "string.split('xx')  \n",
    " \n",
    "按照指定的内容进行分割  \n",
    "返回一个不包含“指定的内容”的list"
   ]
  },
  {
   "cell_type": "code",
   "execution_count": 11,
   "metadata": {},
   "outputs": [
    {
     "data": {
      "text/plain": [
       "['hello', 'world', 'and', 'you']"
      ]
     },
     "execution_count": 11,
     "metadata": {},
     "output_type": "execute_result"
    }
   ],
   "source": [
    "string1 = \"hello_world_and_you\"\n",
    "string1.split('_')"
   ]
  },
  {
   "cell_type": "markdown",
   "metadata": {},
   "source": [
    "字符串的替换    \n",
    "string.replace('被替换的', '替换成的')  \n",
    "\n",
    "从左到右替换指定的元素，可以指定替换的个数，默认全部替换"
   ]
  },
  {
   "cell_type": "code",
   "execution_count": 12,
   "metadata": {},
   "outputs": [
    {
     "data": {
      "text/plain": [
       "'hello_world_and ME and ME and you'"
      ]
     },
     "execution_count": 12,
     "metadata": {},
     "output_type": "execute_result"
    }
   ],
   "source": [
    "string1 = \"hello_world_and you and you and you\"\n",
    "string1.replace('you', 'me'.upper(), 2)"
   ]
  },
  {
   "cell_type": "markdown",
   "metadata": {},
   "source": [
    "字符串标准化  \n",
    "string.strip()  \n",
    "\n",
    "默认去除两边的空格、换行符之类的，去除内容可以指定"
   ]
  },
  {
   "cell_type": "code",
   "execution_count": 16,
   "metadata": {},
   "outputs": [
    {
     "name": "stdout",
     "output_type": "stream",
     "text": [
      "  hello world\n",
      "\n",
      "hello world\n"
     ]
    }
   ],
   "source": [
    "string = '  hello world\\n'\n",
    "print(string)\n",
    "print(string.strip())"
   ]
  },
  {
   "cell_type": "markdown",
   "metadata": {},
   "source": [
    "字符串的格式化输出  \n",
    "%  \n",
    "format:  \n",
    "{}.format()  \n",
    "\n",
    "若指定了类型  \n",
    "eg: {:s} ，则只能传字符串值，如果传其他类型值不会自动转换  \n",
    "\n",
    "若不指定类型时，你传任何类型都能成功，如无特殊必要，可以不用指定类型\n",
    "\n",
    "\n",
    "f-string："
   ]
  },
  {
   "cell_type": "code",
   "execution_count": 40,
   "metadata": {},
   "outputs": [
    {
     "name": "stdout",
     "output_type": "stream",
     "text": [
      "大家好！我叫Molly,我的身高是170 cm, 数学成绩95.00分,英语成绩89分\n",
      "\n",
      "大家好！我叫Molly，我的身高是170 cm, 数学成绩95.00分,英语成绩89分\n",
      "\n",
      "大家好！我叫Molly,我的身高是170.400 cm, 数学成绩95分,英语成绩89分\n"
     ]
    }
   ],
   "source": [
    "name = 'molly'\n",
    "hight = 170.4\n",
    "score_math = 95\n",
    "score_english = 89\n",
    "\n",
    "# %\n",
    "print('大家好！我叫%s,我的身高是%d cm, 数学成绩%.2f分,英语成绩%d分\\n'\n",
    "    % (name.capitalize(), hight, score_math, score_english) )\n",
    "\n",
    "# format\n",
    "print('大家好！我叫{}，我的身高是{:d} cm, 数学成绩{:.2f}分,英语成绩{}分\\n'\n",
    "    .format(name.capitalize(), int(hight), score_math, score_english))\n",
    "\n",
    "# f-string\n",
    "print(f\"大家好！我叫{name.capitalize()},我的身高是{hight:.3f} cm, 数学成绩{score_math}分,英语成绩{score_english}分\")"
   ]
  },
  {
   "cell_type": "code",
   "execution_count": 32,
   "metadata": {},
   "outputs": [
    {
     "data": {
      "text/plain": [
       "'Hello, 小明, 成绩提升了6.0分，百分比为 17.5%'"
      ]
     },
     "execution_count": 32,
     "metadata": {},
     "output_type": "execute_result"
    }
   ],
   "source": [
    "# format变式\n",
    "    # \\ 表示没有完，换行写\n",
    "'Hello, {0}, 成绩提升了{1:.1f}分，百分比为 {2:.1f}%'\\\n",
    "    .format('小明', 6, 17.523)"
   ]
  },
  {
   "cell_type": "code",
   "execution_count": 33,
   "metadata": {},
   "outputs": [
    {
     "data": {
      "text/plain": [
       "'Hello, 小明, 成绩提升了6.0分，百分比为 17.5%'"
      ]
     },
     "execution_count": 33,
     "metadata": {},
     "output_type": "execute_result"
    }
   ],
   "source": [
    "# format变式\n",
    "'Hello, {name:}, 成绩提升了{score:.1f}分，百分比为 {percent:.1f}%'\\\n",
    "    .format(name='小明', \n",
    "            score=6, \n",
    "            percent = 17.523)"
   ]
  },
  {
   "cell_type": "markdown",
   "metadata": {},
   "source": [
    "# 三、列表list进阶"
   ]
  },
  {
   "cell_type": "markdown",
   "metadata": {},
   "source": [
    "list索引、切片"
   ]
  },
  {
   "cell_type": "code",
   "execution_count": 42,
   "metadata": {},
   "outputs": [
    {
     "data": {
      "text/plain": [
       "['b', 3]"
      ]
     },
     "execution_count": 42,
     "metadata": {},
     "output_type": "execute_result"
    }
   ],
   "source": [
    "list = ['a', 'b', 3, 6]\n",
    "list[1:3]"
   ]
  },
  {
   "cell_type": "markdown",
   "metadata": {},
   "source": [
    "## list常用函数"
   ]
  },
  {
   "cell_type": "markdown",
   "metadata": {},
   "source": [
    "在list末尾添加新的元素  \n",
    "list.append('x')  \n",
    "\n",
    "在指定位置添加元素，如果指定的下标不存在，那么就是在末尾添加  \n",
    "list.insert(x, 'xx')  \n",
    "\n",
    "合并两个list  \n",
    "list1.extend(list2)     # 保留list2里的元素，改变list1"
   ]
  },
  {
   "cell_type": "code",
   "execution_count": 53,
   "metadata": {},
   "outputs": [
    {
     "name": "stdout",
     "output_type": "stream",
     "text": [
      "['a', 'b', 1, 2, 'g']\n",
      "['a', 'b', 1, 0, 2, 'g']\n",
      "['a', 'b', 1, 0, 2, 'g', 'x', 'y', 'z']\n"
     ]
    }
   ],
   "source": [
    "list = ['a', 'b', 1, 2]\n",
    "\n",
    "list.append('g')\n",
    "print(list)\n",
    "\n",
    "list.insert(3, 0)\n",
    "print(list)\n",
    "\n",
    "list2 = ['x', 'y', 'z']     \n",
    "list.extend(list2)\n",
    "print(list)"
   ]
  },
  {
   "cell_type": "markdown",
   "metadata": {},
   "source": [
    "count 计数 和 index查找 和 用in查找判断  \n",
    "\n",
    "删除元素  \n",
    "list.pop(x)  \n",
    "list.remove()"
   ]
  },
  {
   "cell_type": "code",
   "execution_count": 62,
   "metadata": {},
   "outputs": [
    {
     "name": "stdout",
     "output_type": "stream",
     "text": [
      "2\n",
      "1\n",
      "True\n",
      "2\n",
      "None\n",
      "['a', 'a', 1, 'b']\n"
     ]
    }
   ],
   "source": [
    "list = ['a', 'b', 'a', 1, 'b', 2]\n",
    "\n",
    "print( list.count('a') )\n",
    "print( list.index('b') )\n",
    "print( 1 in list)\n",
    "\n",
    "print( list.pop() )\n",
    "print( list.remove('b') )\n",
    "print(list)\n",
    "\n",
    "\n"
   ]
  },
  {
   "cell_type": "markdown",
   "metadata": {},
   "source": [
    "## 列表生成式"
   ]
  },
  {
   "cell_type": "markdown",
   "metadata": {},
   "source": [
    "Question1: 列表每一项+1"
   ]
  },
  {
   "cell_type": "code",
   "execution_count": 86,
   "metadata": {},
   "outputs": [
    {
     "name": "stdout",
     "output_type": "stream",
     "text": [
      "[2, 3, 4, 5, 6]\n",
      "[2, 3, 4, 5, 6]\n",
      "[1, 2, 3, 4, 5]\n"
     ]
    }
   ],
   "source": [
    "# 传统方法：\n",
    "list1 = [1, 2, 3, 4, 5]\n",
    "for i in range( len(list1) ):\n",
    "    list1[i] += 1                   # 修改了list1\n",
    "\n",
    "print(list1)\n",
    "\n",
    "\n",
    "# pythonic的方法\n",
    "list1 = [1, 2, 3, 4, 5]\n",
    "print(\n",
    "        [ n+1 for n in list1 ]      # 不修改list1\n",
    "    )     \n",
    "print(list1)"
   ]
  },
  {
   "cell_type": "code",
   "execution_count": 75,
   "metadata": {},
   "outputs": [
    {
     "name": "stdout",
     "output_type": "stream",
     "text": [
      "[1, 4, 9, 16, 25, 36, 49, 64, 81, 100]\n",
      "['1', '4', '9', '16', '25', '36', '49', '64', '81', '100']\n"
     ]
    }
   ],
   "source": [
    "# 拓展练习——对数字进行操作\n",
    "\n",
    "# 1-10之间所有数的平方 \n",
    "list1 = [(n+1)**2 for n in range(10)]\n",
    "print(list1)\n",
    "\n",
    "# 1-10之间所有数的平方 转成的字符串列表\n",
    "list2 = [str( (n+1)**2 ) for n in range(10)]\n",
    "print(list2)"
   ]
  },
  {
   "cell_type": "code",
   "execution_count": 80,
   "metadata": {},
   "outputs": [
    {
     "name": "stdout",
     "output_type": "stream",
     "text": [
      "['app_0', 'app_1', 'app_2', 'app_3', 'app_4', 'app_5', 'app_6', 'app_7', 'app_8', 'app_9']\n",
      "['app_0', 'app_1', 'app_2', 'app_3', 'app_4', 'app_5', 'app_6', 'app_7', 'app_8', 'app_9']\n",
      "['app_a', 'app_b', 'app_a', 'app_d', 'app_a', 'app_f']\n",
      "['app_a', 'app_b', 'app_a', 'app_d', 'app_a', 'app_f']\n"
     ]
    }
   ],
   "source": [
    "# 拓展练习——对字符串进行操作\n",
    "\n",
    "list1 = ['app_%s' % n for n in range(10)]       # %s——占位符\n",
    "print(list1)\n",
    "\n",
    "list2 = [f'app_{n}' for n in range(10)]         # f-string方法\n",
    "print(list2)\n",
    "\n",
    "list = ['a','b','a','d','a','f']\n",
    "print( ['app_%s' % n for n in list] )\n",
    "print( [f'app_{n}' for n in list] )"
   ]
  },
  {
   "cell_type": "markdown",
   "metadata": {},
   "source": [
    "Question2: 过滤出列表中的值为偶数的项"
   ]
  },
  {
   "cell_type": "code",
   "execution_count": 82,
   "metadata": {},
   "outputs": [
    {
     "name": "stdout",
     "output_type": "stream",
     "text": [
      "[2, 4]\n",
      "[2, 4]\n"
     ]
    }
   ],
   "source": [
    "# 有点土但是有效的方法\n",
    "list1 = [1,2,3,4,5]\n",
    "list2 = []\n",
    "for i in range(len(list1)):\n",
    "    if list1[i] % 2 ==0:\n",
    "        \n",
    "        list2.append(list1[i])\n",
    "print(list2)\n",
    "\n",
    "print(\n",
    "    [n for n in list1 if n%2 ==0]\n",
    "    # 遍历list1中的每一个元素，如果%2==0，返回为n 加到list里\n",
    ")"
   ]
  },
  {
   "cell_type": "code",
   "execution_count": 94,
   "metadata": {},
   "outputs": [
    {
     "name": "stdout",
     "output_type": "stream",
     "text": [
      "[1, 3, 5, 7, 9, 11, 13, 15, 17, 19, 21, 23, 25, 27, 29]\n",
      "['c_sv', 'e_sv']\n",
      "[3, 6, 12]\n",
      "[1, 7, 65]\n",
      "['AX', 'AY', 'AZ', 'BX', 'BY', 'BZ', 'CX', 'CY', 'CZ']\n"
     ]
    }
   ],
   "source": [
    "# 拓展练习\n",
    "\n",
    "# 1、找0-29之间的奇数\n",
    "list1 = range(30)\n",
    "print(\n",
    "    [n for n in list1 if n%2 ==1]\n",
    ")\n",
    "\n",
    "# 2、找到字符串中所有以'sv'结尾的\n",
    "list2 = ['a','b','c_sv','d','e_sv']\n",
    "print(\n",
    "    [s for s in list2 if s.endswith('sv')]\n",
    ")\n",
    "\n",
    "# 3、取两个list的交集\n",
    "listA = [1,3,6,7,32,65,12]\n",
    "listB = [2,6,3,5,12]\n",
    "print(\n",
    "    [i for i in listA if i in listB]        # 如果i在listA&B，返回TRUE，i存入list\n",
    ")\n",
    "\n",
    "# 4、取在listA 但是不在listB中 且 是奇数 的元素\n",
    "print(\n",
    "    [i for i in listA if (i not in listB) and (i % 2 == 1)]\n",
    ")\n",
    "\n",
    "# 5、二重for循环\n",
    "print(\n",
    "    [m+n for m in 'ABC' for n in 'XYZ']\n",
    ")"
   ]
  },
  {
   "cell_type": "markdown",
   "metadata": {},
   "source": [
    "## 生成器generator（类似于迭代器）\n",
    "通过列表生成式，我们可以直接创建一个列表。但是，受到内存限制，列表容量肯定是有限的。而且，创建一个包含100万个元素的列表，不仅占用很大的存储空间，如果我们仅仅需要访问前面几个元素，那后面绝大多数元素占用的空间都白白浪费了。"
   ]
  },
  {
   "cell_type": "code",
   "execution_count": 106,
   "metadata": {},
   "outputs": [],
   "source": [
    "# 第一种方法：类似列表生成式\n",
    "g = ( x**2 for x in range(10) )"
   ]
  },
  {
   "cell_type": "code",
   "execution_count": 108,
   "metadata": {},
   "outputs": [
    {
     "data": {
      "text/plain": [
       "1"
      ]
     },
     "execution_count": 108,
     "metadata": {},
     "output_type": "execute_result"
    }
   ],
   "source": [
    "next(g)     # 每执行一次cell g的值改变一次"
   ]
  },
  {
   "cell_type": "code",
   "execution_count": 109,
   "metadata": {},
   "outputs": [
    {
     "name": "stdout",
     "output_type": "stream",
     "text": [
      "0\n",
      "1\n",
      "4\n",
      "9\n",
      "16\n",
      "25\n",
      "36\n",
      "49\n",
      "64\n",
      "81\n"
     ]
    }
   ],
   "source": [
    "g = (x * x for x in range(10))\n",
    "for n in g:\n",
    "    print(n)"
   ]
  },
  {
   "cell_type": "code",
   "execution_count": 113,
   "metadata": {},
   "outputs": [],
   "source": [
    "# 第二种方法：基于函数\n",
    "def reverse_print(string):\n",
    "    print( string[::-1] )       # 倒置string\n",
    "\n",
    "    return 'Successful!'"
   ]
  },
  {
   "cell_type": "code",
   "execution_count": 114,
   "metadata": {},
   "outputs": [
    {
     "name": "stdout",
     "output_type": "stream",
     "text": [
      "!dlrow olleh\n"
     ]
    }
   ],
   "source": [
    "ret = reverse_print('hello world!')"
   ]
  },
  {
   "cell_type": "code",
   "execution_count": 115,
   "metadata": {},
   "outputs": [
    {
     "data": {
      "text/plain": [
       "'Successful!'"
      ]
     },
     "execution_count": 115,
     "metadata": {},
     "output_type": "execute_result"
    }
   ],
   "source": [
    "ret"
   ]
  },
  {
   "cell_type": "code",
   "execution_count": 143,
   "metadata": {},
   "outputs": [
    {
     "name": "stdout",
     "output_type": "stream",
     "text": [
      "2\n",
      "3\n",
      "5\n",
      "7\n"
     ]
    }
   ],
   "source": [
    "        \n",
    "\"\"\"\n",
    "不懂捏\n",
    "第二种方法：基于函数\n",
    "\n",
    "yield 与 return 的区别\n",
    "yield:返回值但不结束\n",
    "return:返回值后结束函数\n",
    "\"\"\"\n",
    "def factor(max_num):\n",
    "    \"\"\"输出所有小于max_num的质数\"\"\"\n",
    "    factor_list = []\n",
    "    n = 2\n",
    "    while n < max_num:\n",
    "        find = True\n",
    "        for f in factor_list:\n",
    "            # 先看看列表里面有没有能整除它的\n",
    "            if n % f == 0:\n",
    "                find = False\n",
    "                break\n",
    "        if find:\n",
    "            factor_list.append(n)\n",
    "            yield n\n",
    "            \n",
    "        n+=1\n",
    "\n",
    "g = factor(10)      # 定义一个生成器\n",
    "for i in g:\n",
    "    print(i)"
   ]
  },
  {
   "cell_type": "code",
   "execution_count": 1,
   "metadata": {},
   "outputs": [
    {
     "name": "stdout",
     "output_type": "stream",
     "text": [
      "1\n",
      "1\n",
      "2\n",
      "3\n",
      "5\n",
      "8\n",
      "13\n",
      "21\n",
      "34\n",
      "55\n"
     ]
    }
   ],
   "source": [
    "# 练习：斐波那契数列\n",
    "def feb(num):\n",
    "    \"\"\"计算出前num项的数列的值\"\"\"\n",
    "    n_1 = 1\n",
    "    n_2 = 1\n",
    "    n = 0\n",
    "    while n < num:\n",
    "        if n == 0 or n == 1:    # 判断n是否是前两项\n",
    "            yield 1             # 是前两项返回1\n",
    "            n += 1\n",
    "        else:\n",
    "            yield n_1 + n_2\n",
    "\n",
    "            # 让n_1与n_2迭代\n",
    "            new_n_2 = n_1\n",
    "            n_1 = n_1 + n_2\n",
    "            n_2 = new_n_2\n",
    "            n += 1\n",
    "\n",
    "\n",
    "\n",
    "g = feb(10)         # 定义一个生成器\n",
    "for i in g: \n",
    "    print(i)"
   ]
  },
  {
   "cell_type": "markdown",
   "metadata": {},
   "source": [
    "# 四、异常与错误处理"
   ]
  },
  {
   "cell_type": "code",
   "execution_count": 27,
   "metadata": {},
   "outputs": [
    {
     "name": "stdout",
     "output_type": "stream",
     "text": [
      "2\n",
      "3\n",
      "4\n",
      "5\n"
     ]
    },
    {
     "ename": "TypeError",
     "evalue": "can only concatenate str (not \"int\") to str",
     "output_type": "error",
     "traceback": [
      "\u001b[1;31m---------------------------------------------------------------------------\u001b[0m",
      "\u001b[1;31mTypeError\u001b[0m                                 Traceback (most recent call last)",
      "Cell \u001b[1;32mIn [27], line 4\u001b[0m\n\u001b[0;32m      2\u001b[0m n\u001b[39m=\u001b[39m\u001b[39m1\u001b[39m\n\u001b[0;32m      3\u001b[0m \u001b[39mfor\u001b[39;00m i \u001b[39min\u001b[39;00m \u001b[39mrange\u001b[39m(\u001b[39mlen\u001b[39m(list1)):\n\u001b[1;32m----> 4\u001b[0m     list1[i]\u001b[39m+\u001b[39m\u001b[39m=\u001b[39m\u001b[39m1\u001b[39m\n\u001b[0;32m      5\u001b[0m     \u001b[39mprint\u001b[39m(list1[i])\n",
      "\u001b[1;31mTypeError\u001b[0m: can only concatenate str (not \"int\") to str"
     ]
    }
   ],
   "source": [
    "list1 = [1,2,3,4,'5',6,7,8]\n",
    "n=1\n",
    "for i in range(len(list1)):\n",
    "    list1[i]+=1\n",
    "    print(list1[i])"
   ]
  },
  {
   "cell_type": "code",
   "execution_count": null,
   "metadata": {},
   "outputs": [],
   "source": [
    "\"\"\"\n",
    "try:\n",
    "    <语句>        #运行语句\n",
    "\n",
    "except <名字>:\n",
    "    <语句>        #如果在try语句里引发了<名字>异常\n",
    "\n",
    "except <名字>, <数据>:\n",
    "    <语句>        #如果引发了<名字>异常，获得附加的数据\n",
    "\n",
    "else:\n",
    "    <语句>        #如果没有异常发生\n",
    "    \n",
    "finally:\n",
    "    <语句>        #有没有异常都会执行\n",
    "\n",
    "\n",
    "运行到try时，进行标记，若出现异常则回到此处，并执行try语句，接下来会发生什么依赖于执行时是否出现异常。\n",
    "如果当 try 后的语句执行时发生异常，Python 就跳回到 try 并执行第一个匹配该异常的 except 语句\n",
    "\"\"\""
   ]
  },
  {
   "cell_type": "code",
   "execution_count": 28,
   "metadata": {},
   "outputs": [
    {
     "name": "stdout",
     "output_type": "stream",
     "text": [
      "2\n",
      "3\n",
      "4\n",
      "5\n",
      "有异常发生\n",
      "7\n",
      "8\n",
      "9\n"
     ]
    }
   ],
   "source": [
    "list1 = [1,2,3,4,'5',6,7,8]\n",
    "n=1\n",
    "for i in range(len(list1)):\n",
    "    try:\n",
    "        list1[i]+=1\n",
    "        print(list1[i])\n",
    "    except:\n",
    "        print(\"有异常发生\")"
   ]
  },
  {
   "cell_type": "code",
   "execution_count": 26,
   "metadata": {},
   "outputs": [
    {
     "name": "stdout",
     "output_type": "stream",
     "text": [
      "2\n",
      "3\n",
      "4\n",
      "5\n",
      "can only concatenate str (not \"int\") to str\n",
      "7\n",
      "8\n",
      "9\n"
     ]
    }
   ],
   "source": [
    "list1 = [1,2,3,4,'5',6,7,8]\n",
    "n=1\n",
    "for i in range(len(list1)):\n",
    "    try:\n",
    "        list1[i]+=1\n",
    "        print(list1[i])\n",
    "    except TypeError as e:\n",
    "        print(e)"
   ]
  },
  {
   "cell_type": "code",
   "execution_count": 29,
   "metadata": {},
   "outputs": [
    {
     "name": "stdout",
     "output_type": "stream",
     "text": [
      "2\n",
      "3\n",
      "4\n",
      "5\n",
      "有异常发生\n",
      "7\n",
      "8\n",
      "9\n"
     ]
    }
   ],
   "source": [
    "list1 = [1,2,3,4,'5',6,7,8]\n",
    "n=1\n",
    "for i in range(len(list1)):\n",
    "    try:\n",
    "        list1[i]+=1\n",
    "        print(list1[i])\n",
    "    except IOError as e:\n",
    "        print(e)\n",
    "        print('输入输出异常')\n",
    "    except:\n",
    "        print('有异常发生')"
   ]
  },
  {
   "cell_type": "code",
   "execution_count": 30,
   "metadata": {},
   "outputs": [
    {
     "name": "stdout",
     "output_type": "stream",
     "text": [
      "0\n",
      "[2, 2, 3, 4, '5', 6, 7, 8]\n",
      "正确执行\n",
      "我总是会被执行\n",
      "1\n",
      "[2, 3, 3, 4, '5', 6, 7, 8]\n",
      "正确执行\n",
      "我总是会被执行\n",
      "2\n",
      "[2, 3, 4, 4, '5', 6, 7, 8]\n",
      "正确执行\n",
      "我总是会被执行\n",
      "3\n",
      "[2, 3, 4, 5, '5', 6, 7, 8]\n",
      "正确执行\n",
      "我总是会被执行\n",
      "4\n",
      "有错误发生\n",
      "我总是会被执行\n",
      "5\n",
      "[2, 3, 4, 5, '5', 7, 7, 8]\n",
      "正确执行\n",
      "我总是会被执行\n",
      "6\n",
      "[2, 3, 4, 5, '5', 7, 8, 8]\n",
      "正确执行\n",
      "我总是会被执行\n",
      "7\n",
      "[2, 3, 4, 5, '5', 7, 8, 9]\n",
      "正确执行\n",
      "我总是会被执行\n"
     ]
    }
   ],
   "source": [
    "list1 = [1,2,3,4,'5',6,7,8]\n",
    "n=1\n",
    "for i in range(len(list1)):\n",
    "    print(i)\n",
    "    try:\n",
    "        list1[i]+=1\n",
    "        print(list1)\n",
    "    except IOError as e:\n",
    "        print(e)\n",
    "        print('输入输出异常')\n",
    "    except:\n",
    "        print('有错误发生')\n",
    "    else:\n",
    "        print('正确执行')\n",
    "    finally:\n",
    "        print('我总是会被执行')"
   ]
  },
  {
   "cell_type": "code",
   "execution_count": 34,
   "metadata": {},
   "outputs": [
    {
     "name": "stdout",
     "output_type": "stream",
     "text": [
      "这是第0次循环\n",
      "2\n",
      "一般用来做清理工作 这是我第0次清理\n",
      "\n",
      "这是第1次循环\n",
      "3\n",
      "一般用来做清理工作 这是我第1次清理\n",
      "\n",
      "这是第2次循环\n",
      "4\n",
      "一般用来做清理工作 这是我第2次清理\n",
      "\n",
      "这是第3次循环\n",
      "5\n",
      "一般用来做清理工作 这是我第3次清理\n",
      "\n",
      "这是第4次循环\n",
      "有错误发生\n",
      "一般用来做清理工作 这是我第4次清理\n",
      "\n",
      "这是第5次循环\n",
      "7\n",
      "一般用来做清理工作 这是我第5次清理\n",
      "\n",
      "这是第6次循环\n",
      "8\n",
      "一般用来做清理工作 这是我第6次清理\n",
      "\n",
      "这是第7次循环\n",
      "9\n",
      "一般用来做清理工作 这是我第7次清理\n",
      "\n"
     ]
    }
   ],
   "source": [
    "list1 = [1,2,3,4,'5',6,7,8]\n",
    "n=1\n",
    "for i in range(len(list1)):\n",
    "    print('这是第%s次循环' % i)\n",
    "    try:\n",
    "        list1[i]+=1\n",
    "        print(list1[i])\n",
    "    except:\n",
    "        print('有错误发生')\n",
    "    finally:  # 有无finally\n",
    "        # 在离开try块之前，finally中的语句也会被执行。\n",
    "        print(f'一般用来做清理工作 这是我第{i}次清理\\n')"
   ]
  },
  {
   "cell_type": "markdown",
   "metadata": {},
   "source": [
    "## 异常的层层处理"
   ]
  },
  {
   "cell_type": "code",
   "execution_count": 5,
   "metadata": {},
   "outputs": [
    {
     "name": "stdout",
     "output_type": "stream",
     "text": [
      "4.0\n"
     ]
    },
    {
     "ename": "ZeroDivisionError",
     "evalue": "division by zero",
     "output_type": "error",
     "traceback": [
      "\u001b[1;31m---------------------------------------------------------------------------\u001b[0m",
      "\u001b[1;31mZeroDivisionError\u001b[0m                         Traceback (most recent call last)",
      "Cell \u001b[1;32mIn [5], line 12\u001b[0m\n\u001b[0;32m      9\u001b[0m     \u001b[39mreturn\u001b[39;00m group_leader(s)\n\u001b[0;32m     11\u001b[0m \u001b[39mprint\u001b[39m( CTO(\u001b[39m'\u001b[39m\u001b[39m5\u001b[39m\u001b[39m'\u001b[39m) )\n\u001b[1;32m---> 12\u001b[0m \u001b[39mprint\u001b[39m( CTO(\u001b[39m'\u001b[39;49m\u001b[39m0\u001b[39;49m\u001b[39m'\u001b[39;49m) )\n",
      "Cell \u001b[1;32mIn [5], line 9\u001b[0m, in \u001b[0;36mCTO\u001b[1;34m(s)\u001b[0m\n\u001b[0;32m      8\u001b[0m \u001b[39mdef\u001b[39;00m \u001b[39mCTO\u001b[39m(s):\n\u001b[1;32m----> 9\u001b[0m     \u001b[39mreturn\u001b[39;00m group_leader(s)\n",
      "Cell \u001b[1;32mIn [5], line 6\u001b[0m, in \u001b[0;36mgroup_leader\u001b[1;34m(s)\u001b[0m\n\u001b[0;32m      5\u001b[0m \u001b[39mdef\u001b[39;00m \u001b[39mgroup_leader\u001b[39m(s):\n\u001b[1;32m----> 6\u001b[0m     \u001b[39mreturn\u001b[39;00m worker(s) \u001b[39m*\u001b[39m \u001b[39m2\u001b[39m\n",
      "Cell \u001b[1;32mIn [5], line 3\u001b[0m, in \u001b[0;36mworker\u001b[1;34m(s)\u001b[0m\n\u001b[0;32m      2\u001b[0m \u001b[39mdef\u001b[39;00m \u001b[39mworker\u001b[39m(s):\n\u001b[1;32m----> 3\u001b[0m     \u001b[39mreturn\u001b[39;00m \u001b[39m10\u001b[39;49m \u001b[39m/\u001b[39;49m \u001b[39mint\u001b[39;49m(s)\n",
      "\u001b[1;31mZeroDivisionError\u001b[0m: division by zero"
     ]
    }
   ],
   "source": [
    "# 异常的层层处理\n",
    "def worker(s):\n",
    "    return 10 / int(s)\n",
    "\n",
    "def group_leader(s):\n",
    "    return worker(s) * 2\n",
    "\n",
    "def CTO(s):\n",
    "    return group_leader(s)\n",
    "\n",
    "print( CTO('5') )\n",
    "print( CTO('0') )"
   ]
  },
  {
   "cell_type": "code",
   "execution_count": 10,
   "metadata": {},
   "outputs": [
    {
     "name": "stdout",
     "output_type": "stream",
     "text": [
      "4.0\n",
      "division by zero\n",
      "1999999.9999999998\n"
     ]
    },
    {
     "ename": "ValueError",
     "evalue": "invalid literal for int() with base 10: 'user'",
     "output_type": "error",
     "traceback": [
      "\u001b[1;31m---------------------------------------------------------------------------\u001b[0m",
      "\u001b[1;31mValueError\u001b[0m                                Traceback (most recent call last)",
      "Cell \u001b[1;32mIn [10], line 19\u001b[0m\n\u001b[0;32m     16\u001b[0m \u001b[39mprint\u001b[39m( CTO(\u001b[39m'\u001b[39m\u001b[39m5\u001b[39m\u001b[39m'\u001b[39m) )\n\u001b[0;32m     17\u001b[0m \u001b[39mprint\u001b[39m( CTO(\u001b[39m'\u001b[39m\u001b[39m0\u001b[39m\u001b[39m'\u001b[39m) )\n\u001b[1;32m---> 19\u001b[0m \u001b[39mprint\u001b[39m( CTO(\u001b[39m'\u001b[39;49m\u001b[39muser\u001b[39;49m\u001b[39m'\u001b[39;49m) )\n",
      "Cell \u001b[1;32mIn [10], line 14\u001b[0m, in \u001b[0;36mCTO\u001b[1;34m(s)\u001b[0m\n\u001b[0;32m     13\u001b[0m \u001b[39mdef\u001b[39;00m \u001b[39mCTO\u001b[39m(s):\n\u001b[1;32m---> 14\u001b[0m     \u001b[39mreturn\u001b[39;00m group_leader(s)\n",
      "Cell \u001b[1;32mIn [10], line 11\u001b[0m, in \u001b[0;36mgroup_leader\u001b[1;34m(s)\u001b[0m\n\u001b[0;32m     10\u001b[0m \u001b[39mdef\u001b[39;00m \u001b[39mgroup_leader\u001b[39m(s):\n\u001b[1;32m---> 11\u001b[0m     \u001b[39mreturn\u001b[39;00m worker(s) \u001b[39m*\u001b[39m \u001b[39m2\u001b[39m\n",
      "Cell \u001b[1;32mIn [10], line 4\u001b[0m, in \u001b[0;36mworker\u001b[1;34m(s)\u001b[0m\n\u001b[0;32m      2\u001b[0m \u001b[39mdef\u001b[39;00m \u001b[39mworker\u001b[39m(s):\n\u001b[0;32m      3\u001b[0m     \u001b[39mtry\u001b[39;00m:\n\u001b[1;32m----> 4\u001b[0m         rst \u001b[39m=\u001b[39m \u001b[39m10\u001b[39m \u001b[39m/\u001b[39m \u001b[39mint\u001b[39;49m(s)\n\u001b[0;32m      5\u001b[0m     \u001b[39mexcept\u001b[39;00m \u001b[39mZeroDivisionError\u001b[39;00m \u001b[39mas\u001b[39;00m e:\n\u001b[0;32m      6\u001b[0m         \u001b[39mprint\u001b[39m(e)\n",
      "\u001b[1;31mValueError\u001b[0m: invalid literal for int() with base 10: 'user'"
     ]
    }
   ],
   "source": [
    "# 异常的层层处理——改1.0\n",
    "def worker(s):\n",
    "    try:\n",
    "        rst = 10 / int(s)\n",
    "    except ZeroDivisionError as e:\n",
    "        print(e)\n",
    "        rst = 10 / (float(s)+0.00001)\n",
    "    return rst\n",
    "\n",
    "def group_leader(s):\n",
    "    return worker(s) * 2\n",
    "\n",
    "def CTO(s):\n",
    "    return group_leader(s)\n",
    "\n",
    "print( CTO('5') )\n",
    "print( CTO('0') )\n",
    "\n",
    "print( CTO('user') )\n"
   ]
  },
  {
   "cell_type": "code",
   "execution_count": 11,
   "metadata": {},
   "outputs": [
    {
     "name": "stdout",
     "output_type": "stream",
     "text": [
      "4.0\n",
      "division by zero\n",
      "1999999.9999999998\n",
      "invalid literal for int() with base 10: 'user'\n",
      "请修改输入\n"
     ]
    }
   ],
   "source": [
    "# 异常的层层处理——改2.0\n",
    "def worker(s):\n",
    "    try:\n",
    "        rst = 10 / int(s)\n",
    "    except ZeroDivisionError as e:\n",
    "        print(e)\n",
    "        rst = 10 / (float(s)+0.00001)\n",
    "    return rst\n",
    "\n",
    "def group_leader(s):\n",
    "    try:\n",
    "        rst = worker(s) * 2\n",
    "    except ValueError as e:\n",
    "        print(e)\n",
    "        rst = '请修改输入'\n",
    "    return rst\n",
    "\n",
    "def CTO(s):\n",
    "    return group_leader(s)\n",
    "\n",
    "print( CTO('5') )\n",
    "print( CTO('0') )\n",
    "\n",
    "print( CTO('user') )"
   ]
  },
  {
   "cell_type": "markdown",
   "metadata": {},
   "source": [
    "### assert语句的使用  \n",
    "assert（断言）用于判断一个表达式，在表达式条件为 false 的时候触发异常。  \n",
    "\n",
    "断言可以在条件不满足程序运行的情况下直接返回错误，  \n",
    "而不必等待程序运行后出现崩溃的情况"
   ]
  },
  {
   "cell_type": "code",
   "execution_count": 7,
   "metadata": {},
   "outputs": [
    {
     "ename": "AssertionError",
     "evalue": "",
     "output_type": "error",
     "traceback": [
      "\u001b[1;31m---------------------------------------------------------------------------\u001b[0m",
      "\u001b[1;31mAssertionError\u001b[0m                            Traceback (most recent call last)",
      "Cell \u001b[1;32mIn [7], line 1\u001b[0m\n\u001b[1;32m----> 1\u001b[0m \u001b[39massert\u001b[39;00m  \u001b[39m1\u001b[39m \u001b[39m==\u001b[39m \u001b[39m2\u001b[39m\n\u001b[0;32m      3\u001b[0m \u001b[39m\"\"\"\u001b[39;00m\n\u001b[0;32m      4\u001b[0m \u001b[39m等价于\u001b[39;00m\n\u001b[0;32m      5\u001b[0m \u001b[39mif not expression:\u001b[39;00m\n\u001b[0;32m      6\u001b[0m \u001b[39m    raise AssertionError\u001b[39;00m\n\u001b[0;32m      7\u001b[0m \u001b[39m\"\"\"\u001b[39;00m\n",
      "\u001b[1;31mAssertionError\u001b[0m: "
     ]
    }
   ],
   "source": [
    "assert  1 == 2      # 条件1==2为 false 触发异常\n",
    "\n",
    "\"\"\"\n",
    "等价于\n",
    "if not expression:\n",
    "    raise AssertionError\n",
    "\"\"\""
   ]
  },
  {
   "cell_type": "code",
   "execution_count": 10,
   "metadata": {},
   "outputs": [],
   "source": [
    "assert 1 == 1       # 条件1==1为 true 正常执行"
   ]
  },
  {
   "cell_type": "code",
   "execution_count": 13,
   "metadata": {},
   "outputs": [
    {
     "name": "stdout",
     "output_type": "stream",
     "text": [
      "数据类型错误\n"
     ]
    },
    {
     "data": {
      "text/plain": [
       "-1"
      ]
     },
     "execution_count": 13,
     "metadata": {},
     "output_type": "execute_result"
    }
   ],
   "source": [
    "# 检查用户的输入\n",
    "def worker(s):\n",
    "    assert type(s)== int\n",
    "    assert s!=0\n",
    "    rst = 10 / int(s)\n",
    "    return rst\n",
    "\n",
    "def group_leader(s):\n",
    "    try:\n",
    "        rst = worker(s) * 2\n",
    "    except AssertionError as e:\n",
    "        print('数据类型错误')\n",
    "        rst = -1\n",
    "    return rst\n",
    "\n",
    "def CTO(s):\n",
    "    return group_leader(s)\n",
    "\n",
    "CTO('user')"
   ]
  },
  {
   "cell_type": "markdown",
   "metadata": {},
   "source": [
    "## BUG的调试和记录"
   ]
  },
  {
   "cell_type": "markdown",
   "metadata": {},
   "source": [
    "### print大法"
   ]
  },
  {
   "cell_type": "code",
   "execution_count": 14,
   "metadata": {},
   "outputs": [
    {
     "name": "stdout",
     "output_type": "stream",
     "text": [
      "这是第0次循环\n",
      "2\n",
      "这是第1次循环\n",
      "3\n",
      "这是第2次循环\n",
      "4\n",
      "这是第3次循环\n",
      "5\n",
      "这是第4次循环\n"
     ]
    },
    {
     "ename": "TypeError",
     "evalue": "can only concatenate str (not \"int\") to str",
     "output_type": "error",
     "traceback": [
      "\u001b[1;31m---------------------------------------------------------------------------\u001b[0m",
      "\u001b[1;31mTypeError\u001b[0m                                 Traceback (most recent call last)",
      "Cell \u001b[1;32mIn [14], line 5\u001b[0m\n\u001b[0;32m      3\u001b[0m \u001b[39mfor\u001b[39;00m i \u001b[39min\u001b[39;00m \u001b[39mrange\u001b[39m(\u001b[39mlen\u001b[39m(list1)):\n\u001b[0;32m      4\u001b[0m     \u001b[39mprint\u001b[39m(\u001b[39m'\u001b[39m\u001b[39m这是第\u001b[39m\u001b[39m%s\u001b[39;00m\u001b[39m次循环\u001b[39m\u001b[39m'\u001b[39m \u001b[39m%\u001b[39m i)\n\u001b[1;32m----> 5\u001b[0m     list1[i]\u001b[39m+\u001b[39m\u001b[39m=\u001b[39m\u001b[39m1\u001b[39m\n\u001b[0;32m      6\u001b[0m     \u001b[39mprint\u001b[39m(list1[i])\n",
      "\u001b[1;31mTypeError\u001b[0m: can only concatenate str (not \"int\") to str"
     ]
    }
   ],
   "source": [
    "list1 = [1,2,3,4,'5',6,7,8]\n",
    "n=1\n",
    "for i in range(len(list1)):\n",
    "    print('这是第%s次循环' % i)\n",
    "    list1[i]+=1\n",
    "    print(list1[i])"
   ]
  },
  {
   "cell_type": "markdown",
   "metadata": {},
   "source": [
    "### logging\n",
    "(wtf'sthis)"
   ]
  },
  {
   "cell_type": "code",
   "execution_count": 15,
   "metadata": {},
   "outputs": [
    {
     "name": "stderr",
     "output_type": "stream",
     "text": [
      "2022-10-14 17:20:20,808 - INFO - 这是第0次循环\n",
      "2022-10-14 17:20:20,809 - INFO - 这是第1次循环\n",
      "2022-10-14 17:20:20,809 - INFO - 这是第2次循环\n",
      "2022-10-14 17:20:20,810 - INFO - 这是第3次循环\n",
      "2022-10-14 17:20:20,810 - INFO - 这是第4次循环\n"
     ]
    },
    {
     "name": "stdout",
     "output_type": "stream",
     "text": [
      "2\n",
      "3\n",
      "4\n",
      "5\n"
     ]
    },
    {
     "ename": "TypeError",
     "evalue": "can only concatenate str (not \"int\") to str",
     "output_type": "error",
     "traceback": [
      "\u001b[1;31m---------------------------------------------------------------------------\u001b[0m",
      "\u001b[1;31mTypeError\u001b[0m                                 Traceback (most recent call last)",
      "Cell \u001b[1;32mIn [15], line 16\u001b[0m\n\u001b[0;32m     14\u001b[0m \u001b[39mfor\u001b[39;00m i \u001b[39min\u001b[39;00m \u001b[39mrange\u001b[39m(\u001b[39mlen\u001b[39m(list1)):\n\u001b[0;32m     15\u001b[0m     logging\u001b[39m.\u001b[39minfo(\u001b[39m'\u001b[39m\u001b[39m这是第\u001b[39m\u001b[39m%s\u001b[39;00m\u001b[39m次循环\u001b[39m\u001b[39m'\u001b[39m \u001b[39m%\u001b[39m i)\n\u001b[1;32m---> 16\u001b[0m     list1[i]\u001b[39m+\u001b[39m\u001b[39m=\u001b[39m\u001b[39m1\u001b[39m\n\u001b[0;32m     17\u001b[0m     \u001b[39mprint\u001b[39m(list1[i])\n",
      "\u001b[1;31mTypeError\u001b[0m: can only concatenate str (not \"int\") to str"
     ]
    }
   ],
   "source": [
    "import logging\n",
    "logger = logging.getLogger()\n",
    " \n",
    "formatter = logging.Formatter('%(asctime)s - %(levelname)s - %(message)s')\n",
    "\n",
    "# Configure stream handler for the cells\n",
    "chandler = logging.StreamHandler()\n",
    "chandler.setLevel(logging.INFO)\n",
    "chandler.setFormatter(formatter)\n",
    "logger.addHandler(chandler)\n",
    "logger.setLevel(logging.INFO)\n",
    "\n",
    "list1 = [1,2,3,4,'5',6,7,8]\n",
    "for i in range(len(list1)):\n",
    "    logging.info('这是第%s次循环' % i)\n",
    "    list1[i]+=1\n",
    "    print(list1[i])"
   ]
  },
  {
   "cell_type": "markdown",
   "metadata": {},
   "source": [
    "# 五、小练习"
   ]
  },
  {
   "cell_type": "markdown",
   "metadata": {},
   "source": [
    "列表  \n",
    "已知一个列表lst = [1,2,3,4,5]\n",
    "\n",
    "- 求列表的长度  \n",
    "- 判断6 是否在列表中\n",
    "- 列表里元素的最大值是多少\n",
    "- 列表里元素的最小值是多少\n",
    "- 列表里所有元素的和是多少\n",
    "- 在数字1的后面新增一个的元素10\n",
    "- 在列表的末尾新增一个元素20"
   ]
  },
  {
   "cell_type": "code",
   "execution_count": 23,
   "metadata": {},
   "outputs": [
    {
     "name": "stdout",
     "output_type": "stream",
     "text": [
      "5\n",
      "False\n",
      "5\n",
      "1\n",
      "15\n"
     ]
    },
    {
     "data": {
      "text/plain": [
       "[1, 10, 2, 3, 4, 5, 20]"
      ]
     },
     "execution_count": 23,
     "metadata": {},
     "output_type": "execute_result"
    }
   ],
   "source": [
    "lst = [1, 2, 3, 4, 5]\n",
    "print( len(lst) )\n",
    "print( 6 in lst )\n",
    "print( max(lst) )\n",
    "print( min(lst) )\n",
    "print( sum(lst) )\n",
    "lst.insert(1, 10)\n",
    "lst.append(20)\n",
    "lst"
   ]
  },
  {
   "cell_type": "markdown",
   "metadata": {},
   "source": [
    "列表生成式  \n",
    "\n",
    "1、要求你生成一个列表，列表里有10个元素，索引为奇数的元素值为1，索引为偶数的位置值为0。  \n",
    "\n",
    "\n",
    "2、  \n",
    "[m + n for m in 'ABC' for n in 'XYZ']  \n",
    "已知lst1=[1,2,3,4,5,6],lst2=[2,4,6]  \n",
    "求两两相等时，lst1项*lst2项  \n",
    "\n",
    "3、  \n",
    "def f(n):  \n",
    "    return n\\*n+2*n  \n",
    "\n",
    "把f(n)应用在 lst1=[1,2,3,4,5,6]  中的每一项"
   ]
  },
  {
   "cell_type": "code",
   "execution_count": 39,
   "metadata": {},
   "outputs": [],
   "source": [
    "# 1、\n",
    "# 不会，没想出来TAT"
   ]
  },
  {
   "cell_type": "code",
   "execution_count": 40,
   "metadata": {},
   "outputs": [
    {
     "data": {
      "text/plain": [
       "[4, 16, 36]"
      ]
     },
     "execution_count": 40,
     "metadata": {},
     "output_type": "execute_result"
    }
   ],
   "source": [
    "# 2、\n",
    "lst1 = [1, 2, 3, 4, 5, 6]\n",
    "lst2 = [2, 4, 6]\n",
    "[ m*n for m in lst1 for n in lst2 if m==n ]"
   ]
  },
  {
   "cell_type": "code",
   "execution_count": 42,
   "metadata": {},
   "outputs": [
    {
     "data": {
      "text/plain": [
       "[3, 8, 15, 24, 35, 48]"
      ]
     },
     "execution_count": 42,
     "metadata": {},
     "output_type": "execute_result"
    }
   ],
   "source": [
    "# 3、\n",
    "lst1 = [1, 2, 3, 4, 5, 6]\n",
    "def f(n):\n",
    "    return n*n + 2*n\n",
    "\n",
    "[ f(i) for i in lst1 ]"
   ]
  }
 ],
 "metadata": {
  "kernelspec": {
   "display_name": "Python 3.9.7 64-bit",
   "language": "python",
   "name": "python3"
  },
  "language_info": {
   "codemirror_mode": {
    "name": "ipython",
    "version": 3
   },
   "file_extension": ".py",
   "mimetype": "text/x-python",
   "name": "python",
   "nbconvert_exporter": "python",
   "pygments_lexer": "ipython3",
   "version": "3.9.7"
  },
  "orig_nbformat": 4,
  "vscode": {
   "interpreter": {
    "hash": "6271af59efcb574c1acd9e90fe60fcafa7df691ee2162a5a2f2fc7ed9d5d56c4"
   }
  }
 },
 "nbformat": 4,
 "nbformat_minor": 2
}
