{
 "cells": [
  {
   "cell_type": "markdown",
   "metadata": {},
   "source": [
    "组合数据类型"
   ]
  },
  {
   "cell_type": "code",
   "execution_count": 28,
   "metadata": {},
   "outputs": [
    {
     "name": "stdout",
     "output_type": "stream",
     "text": [
      "[1, 2, 3, 4, 5]\n",
      "['a', 'b', 'c', 'd', 'e', 'f']\n",
      "['physics', 'chemistry', 1997, 2000]\n"
     ]
    }
   ],
   "source": [
    "\n",
    "list1 = [1, 2, 3, 4, 5 ]\n",
    "list2 = [\"a\", \"b\", \"c\", \"d\",\"e\",\"f\"]\n",
    "list3 = ['physics', 'chemistry', 1997, 2000]\n",
    "\n",
    "print(list1)\n",
    "print(list2)\n",
    "print(list3)\n"
   ]
  },
  {
   "cell_type": "code",
   "execution_count": 6,
   "metadata": {},
   "outputs": [
    {
     "data": {
      "text/plain": [
       "[1, 2, 3]"
      ]
     },
     "execution_count": 6,
     "metadata": {},
     "output_type": "execute_result"
    }
   ],
   "source": [
    "list1.pop()\n",
    "list1"
   ]
  },
  {
   "cell_type": "code",
   "execution_count": 8,
   "metadata": {},
   "outputs": [
    {
     "data": {
      "text/plain": [
       "[3, 2, 1]"
      ]
     },
     "execution_count": 8,
     "metadata": {},
     "output_type": "execute_result"
    }
   ],
   "source": [
    "list1.reverse()\n",
    "list1"
   ]
  },
  {
   "cell_type": "code",
   "execution_count": 9,
   "metadata": {},
   "outputs": [
    {
     "data": {
      "text/plain": [
       "('physics', 'chemistry', 1997, 2000)"
      ]
     },
     "execution_count": 9,
     "metadata": {},
     "output_type": "execute_result"
    }
   ],
   "source": [
    "tuple1 = (1, 2, 3, 4, 5 )\n",
    "tuple2 = (\"a\", \"b\", \"c\", \"d\",\"e\",\"f\")\n",
    "tuple3 = ('physics', 'chemistry', 1997, 2000)\n",
    "\n",
    "tuple3"
   ]
  },
  {
   "cell_type": "code",
   "execution_count": 36,
   "metadata": {},
   "outputs": [
    {
     "name": "stdout",
     "output_type": "stream",
     "text": [
      "2266635594160\n",
      "2266635594192\n",
      "2266641067504\n"
     ]
    }
   ],
   "source": [
    "a = 5\n",
    "print(id(a))\n",
    "a = 6\n",
    "print(id(a))\n",
    "a = 'string'\n",
    "print(id(a))"
   ]
  },
  {
   "cell_type": "code",
   "execution_count": 11,
   "metadata": {},
   "outputs": [
    {
     "name": "stdout",
     "output_type": "stream",
     "text": [
      "2266752753408\n",
      "2266752753408\n"
     ]
    }
   ],
   "source": [
    "a = [5]\n",
    "print(id(a))\n",
    "a.append(6)\n",
    "print(id(a))"
   ]
  },
  {
   "cell_type": "code",
   "execution_count": 12,
   "metadata": {},
   "outputs": [
    {
     "name": "stdout",
     "output_type": "stream",
     "text": [
      "{'apple': '苹果', 'banana': '香蕉'}\n",
      "{'小张': 100, '小李': 80}\n",
      "{4: '很好', 3: '好', 2: '中', 1: '差', 0: '很差'}\n"
     ]
    }
   ],
   "source": [
    "word = {'apple':'苹果','banana':'香蕉'}\n",
    "scores = {'小张':100, '小李':80}\n",
    "grad = {4:'很好',3: '好',2:'中',1:'差',0:'很差'}\n",
    "\n",
    "print(word)\n",
    "print(scores)\n",
    "print(grad)"
   ]
  },
  {
   "cell_type": "code",
   "execution_count": 15,
   "metadata": {},
   "outputs": [
    {
     "data": {
      "text/plain": [
       "'苹果'"
      ]
     },
     "execution_count": 15,
     "metadata": {},
     "output_type": "execute_result"
    }
   ],
   "source": [
    "word['apple']"
   ]
  },
  {
   "cell_type": "code",
   "execution_count": 13,
   "metadata": {},
   "outputs": [
    {
     "data": {
      "text/plain": [
       "100"
      ]
     },
     "execution_count": 13,
     "metadata": {},
     "output_type": "execute_result"
    }
   ],
   "source": [
    "scores['小张']"
   ]
  },
  {
   "cell_type": "code",
   "execution_count": 14,
   "metadata": {},
   "outputs": [
    {
     "data": {
      "text/plain": [
       "'好'"
      ]
     },
     "execution_count": 14,
     "metadata": {},
     "output_type": "execute_result"
    }
   ],
   "source": [
    "grad[3]"
   ]
  },
  {
   "cell_type": "code",
   "execution_count": 19,
   "metadata": {},
   "outputs": [
    {
     "data": {
      "text/plain": [
       "{'小张': 60, '小李': 80, '小赵': 60}"
      ]
     },
     "execution_count": 19,
     "metadata": {},
     "output_type": "execute_result"
    }
   ],
   "source": [
    "scores['小赵'] = 60\n",
    "scores['小张'] = 60\n",
    "scores"
   ]
  },
  {
   "cell_type": "code",
   "execution_count": 23,
   "metadata": {},
   "outputs": [
    {
     "data": {
      "text/plain": [
       "set"
      ]
     },
     "execution_count": 23,
     "metadata": {},
     "output_type": "execute_result"
    }
   ],
   "source": [
    "s = {1, 1, 2, 3, 4}\n",
    "type(s)"
   ]
  },
  {
   "cell_type": "code",
   "execution_count": 26,
   "metadata": {},
   "outputs": [
    {
     "name": "stdout",
     "output_type": "stream",
     "text": [
      "<class 'set'>\n",
      "<class 'list'>\n",
      "<class 'list'>\n"
     ]
    }
   ],
   "source": [
    "print( type( set( [1, 1, 2, 3, 4] ) ) )  # 将list转为set\n",
    "print( type( list( {1, 1, 2, 3, 4} ) ) ) # 将set转为list\n",
    "print( type( list( (1, 1, 2, 3, 4) ) ) ) # 将tuple转为list\n"
   ]
  },
  {
   "cell_type": "markdown",
   "metadata": {},
   "source": [
    "for循环"
   ]
  },
  {
   "cell_type": "code",
   "execution_count": 29,
   "metadata": {},
   "outputs": [
    {
     "name": "stdout",
     "output_type": "stream",
     "text": [
      "当前水果 : banana\n",
      "当前水果 : apple\n",
      "当前水果 : mango\n"
     ]
    }
   ],
   "source": [
    "fruits = ['banana', 'apple',  'mango']\n",
    "for fruit in fruits:        # 第一个实例\n",
    "   print( '当前水果 :', fruit)"
   ]
  },
  {
   "cell_type": "code",
   "execution_count": 31,
   "metadata": {},
   "outputs": [
    {
     "name": "stdout",
     "output_type": "stream",
     "text": [
      "当前字母 : P\n",
      "当前字母 : y\n",
      "当前字母 : t\n",
      "当前字母 : h\n",
      "当前字母 : o\n",
      "当前字母 : n\n"
     ]
    }
   ],
   "source": [
    "for letter in 'Python':     # 第二个实例\n",
    "   print( '当前字母 :', letter)"
   ]
  },
  {
   "cell_type": "code",
   "execution_count": null,
   "metadata": {},
   "outputs": [],
   "source": []
  }
 ],
 "metadata": {
  "kernelspec": {
   "display_name": "Python 3.9.7 64-bit",
   "language": "python",
   "name": "python3"
  },
  "language_info": {
   "codemirror_mode": {
    "name": "ipython",
    "version": 3
   },
   "file_extension": ".py",
   "mimetype": "text/x-python",
   "name": "python",
   "nbconvert_exporter": "python",
   "pygments_lexer": "ipython3",
   "version": "3.9.7"
  },
  "orig_nbformat": 4,
  "vscode": {
   "interpreter": {
    "hash": "6271af59efcb574c1acd9e90fe60fcafa7df691ee2162a5a2f2fc7ed9d5d56c4"
   }
  }
 },
 "nbformat": 4,
 "nbformat_minor": 2
}
