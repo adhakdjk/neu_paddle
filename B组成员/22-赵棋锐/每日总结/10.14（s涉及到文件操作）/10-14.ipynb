{
 "cells": [
  {
   "cell_type": "markdown",
   "metadata": {},
   "source": [
    "# 开始今天的学习\n",
    "## 第一部分：AI飞桨：文件操作以及其常用模块的使用(半学习半复习)\n",
    "* 总的分类：输入，处理（标准化数据，切分数据，top3（最快的3个时间）），输出"
   ]
  },
  {
   "cell_type": "code",
   "execution_count": 3,
   "metadata": {},
   "outputs": [
    {
     "name": "stdout",
     "output_type": "stream",
     "text": [
      "灏忔槑  楂樹笁  18  690\n",
      "\n",
      "灏忕孩  楂樹笁  18  640\n",
      "\n",
      "灏忛挶  楂樹簩  17  610\n",
      "公司\n"
     ]
    }
   ],
   "source": [
    "import numpy as np\n",
    "import pandas as pd\n",
    "import time as time\n",
    "f=open('EVA_01.txt')\n",
    "for line in f:\n",
    "    print(line)\n",
    "f.close()\n",
    "print('公司')"
   ]
  },
  {
   "cell_type": "code",
   "execution_count": null,
   "metadata": {},
   "outputs": [],
   "source": []
  }
 ],
 "metadata": {
  "kernelspec": {
   "display_name": "Python 3.10.7 64-bit",
   "language": "python",
   "name": "python3"
  },
  "language_info": {
   "codemirror_mode": {
    "name": "ipython",
    "version": 3
   },
   "file_extension": ".py",
   "mimetype": "text/x-python",
   "name": "python",
   "nbconvert_exporter": "python",
   "pygments_lexer": "ipython3",
   "version": "3.10.7"
  },
  "orig_nbformat": 4,
  "vscode": {
   "interpreter": {
    "hash": "ea8748631029df754e0729d32df4b77a24037d1bd88384a6aa35512f89defdbb"
   }
  }
 },
 "nbformat": 4,
 "nbformat_minor": 2
}
