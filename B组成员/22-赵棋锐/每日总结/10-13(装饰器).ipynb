{
 "cells": [
  {
   "cell_type": "markdown",
   "metadata": {},
   "source": [
    "# 写了几大页的总结，不知道为什么没了，全没了,心情是真的炸裂\n",
    "* 学习成果如下"
   ]
  },
  {
   "cell_type": "code",
   "execution_count": 1,
   "metadata": {},
   "outputs": [
    {
     "name": "stdout",
     "output_type": "stream",
     "text": [
      "start the second exploration\n",
      "开始运行\n",
      "运行中..........\n",
      "3\n",
      "The running time is : 3005.194664001465 ms\n",
      "over the second exploration\n"
     ]
    }
   ],
   "source": [
    "import time\n",
    "def EVA_1(func):\n",
    "    def wrapper(*w,**W):\n",
    "        starttime=time.time()\n",
    "        func(*w,**W)\n",
    "        endtime=time.time()\n",
    "        time.sleep(1)\n",
    "        print('The running time is :',(endtime-starttime)*1000,'ms')\n",
    "    return wrapper\n",
    "def EVA_2(func):\n",
    "    def wrapper(*w,**W):\n",
    "        print('start the second exploration')\n",
    "        func(*w,**W)\n",
    "        print('over the second exploration')\n",
    "    return wrapper\n",
    "\n",
    "@EVA_2\n",
    "@EVA_1\n",
    "def Print(a=1,b=1000):\n",
    "    print('开始运行')\n",
    "    print('运行中',end='')\n",
    "    for i in range(10):\n",
    "        print('.',end='')\n",
    "        time.sleep(0.3)\n",
    "    print('')\n",
    "    print(a+b)\n",
    "\n",
    "if __name__ =='__main__':\n",
    "    a=1\n",
    "    b=1\n",
    "    Print(1,2)\n",
    "\n",
    "\n"
   ]
  }
 ],
 "metadata": {
  "language_info": {
   "name": "python"
  },
  "orig_nbformat": 4
 },
 "nbformat": 4,
 "nbformat_minor": 2
}
