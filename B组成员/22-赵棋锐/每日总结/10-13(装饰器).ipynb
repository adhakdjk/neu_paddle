{
 "cells": [
  {
   "cell_type": "markdown",
   "metadata": {},
   "source": [
    "# zipefile模块\n",
    "```\n",
    "ZIP 文件格式是一个常用的归档与压缩标准。 这个模块提供了创建、读取、写入、添加及列出 ZIP 文件的工具。 任何对此模块的进阶使用都将需要理解此格式，其定义参见 PKZIP 应用程序笔记。\n",
    "\n",
    "此模块目前不能处理分卷 ZIP 文件。它可以处理使用 ZIP64 扩展（超过 4 GB 的 ZIP 文件）的 ZIP 文件。它支持解密 ZIP 归档中的加密文件，但是目前不能创建一个加密的文件。解密非常慢，因为它是使用原生 Python 而不是 C 实现的。\n",
    "\n",
    "下面展示一下zipfile的几个常用函数：\n",
    "\n",
    "ZipFile.close() 关闭归档文件。 你必须在退出程序之前调用 close() 否则将不会写入关键记录数据。\n",
    "\n",
    "ZipFile.getinfo(name) 返回一个 ZipInfo 对象，其中包含有关归档成员 name 的信息。 针对一个目前并不包含于归档中的名称调用 getinfo() 将会引发 KeyError。\n",
    "\n",
    "ZipFile.infolist() 返回一个列表，其中包含每个归档成员的 ZipInfo 对象。 如果是打开一个现有归档则这些对象的排列顺序与它们对应条目在磁盘上的实际 ZIP 文件中的顺序一致。\n",
    "\n",
    "ZipFile.namelist() 返回按名称排序的归档成员列表。\n",
    "```\n",
    "* ZipFile.open(name, mode='r', pwd=None, , force_zip64=False) 以二进制文件类对象的形式访问一个归档成员。 name 可以是归档内某个文件的名称也可以是某个 ZipInfo 对象。 如果包含了 mode 形参，则它必须为 'r' (默认值) 或 'w'。 pwd 为用于解密已加密 ZIP 文件的密码。\n",
    "# 开始今天的学习\n",
    "# 装饰器\n",
    "## 功能\n",
    "* 扩展原来的函数的功能：\n"
   ]
  },
  {
   "cell_type": "markdown",
   "metadata": {},
   "source": [
    "## 篡改原函数"
   ]
  },
  {
   "cell_type": "code",
   "execution_count": 6,
   "metadata": {},
   "outputs": [
    {
     "name": "stdout",
     "output_type": "stream",
     "text": [
      "Hello\n",
      "World\n",
      "1665645862.2943392 1665645863.2951565\n",
      "\n",
      "1000.8172988891602 ms\n"
     ]
    }
   ],
   "source": [
    "import time\n",
    "def func():\n",
    "    starttime=time.time()\n",
    "\n",
    "#此为原函数\n",
    "    print('Hello')\n",
    "    time.sleep(1)\n",
    "    print('World')\n",
    "\n",
    "\n",
    "    endtime=time.time()\n",
    "\n",
    "\n",
    "    print(starttime,endtime)\n",
    "    print('')\n",
    "    print((endtime-starttime)*1000,'ms')\n",
    "\n",
    "func()\n"
   ]
  },
  {
   "cell_type": "markdown",
   "metadata": {},
   "source": [
    "## 如果不修改原函数呢\n",
    "* 避免入侵原函数，但如果要继续运行要先运行我们定义的函数"
   ]
  },
  {
   "cell_type": "code",
   "execution_count": 1,
   "metadata": {},
   "outputs": [
    {
     "name": "stdout",
     "output_type": "stream",
     "text": [
      "Hello\n",
      "World\n",
      "1000.3018379211426 ms\n"
     ]
    }
   ],
   "source": [
    "import time\n",
    "def func():\n",
    "    print('Hello')\n",
    "    time.sleep(1)\n",
    "    print('World')\n",
    "def EVA(f):\n",
    "    starttime=time.time()\n",
    "    f()\n",
    "    endtime=time.time()\n",
    "    print((endtime-starttime)*1000,'ms')\n",
    "EVA(func)"
   ]
  },
  {
   "cell_type": "markdown",
   "metadata": {},
   "source": [
    "* 但依然不能满足我们的要求\n",
    "因为EVA函数只能单独对一个函数起作用，当函数较多时，会显得？？？-- ~烧机？"
   ]
  },
  {
   "cell_type": "code",
   "execution_count": 3,
   "metadata": {},
   "outputs": [
    {
     "name": "stdout",
     "output_type": "stream",
     "text": [
      "Hello\n",
      "World\n",
      "time is  1001.5301704406738 ms\n"
     ]
    }
   ],
   "source": [
    "import time\n",
    "def EVA(func):\n",
    "    def wrapper():\n",
    "        starttime=time.time()\n",
    "        func()\n",
    "        endtime=time.time()\n",
    "        print('time is ',(endtime-starttime)*1000,'ms')\n",
    "    return wrapper\n",
    "\n",
    "\n",
    "@EVA\n",
    "def func():\n",
    "    print('Hello')\n",
    "    time.sleep(1)\n",
    "    print('World')\n",
    "if __name__ =='__main__':\n",
    "    func()\n"
   ]
  },
  {
   "cell_type": "markdown",
   "metadata": {},
   "source": [
    "* 但是看上去好像只是支撑一个func函数的使用，我们有许多的参数，而且包含参数不定的情况"
   ]
  },
  {
   "cell_type": "code",
   "execution_count": 10,
   "metadata": {},
   "outputs": [
    {
     "name": "stdout",
     "output_type": "stream",
     "text": [
      "EVA_01\n",
      "the time is  200.93083381652832 ms\n",
      "EVA_02 4\n",
      "the time is  0.0 ms\n"
     ]
    }
   ],
   "source": [
    "import time\n",
    "def EVA(func):\n",
    "    def wrapper(*w,**W):\n",
    "        starttime=time.time()\n",
    "        func(*w,**W)\n",
    "        endtime=time.time()\n",
    "        print('the time is ',(endtime-starttime)*1000,'ms')\n",
    "    return wrapper\n",
    "\n",
    "@EVA\n",
    "def EVA_func01():\n",
    "    print('EVA_01')\n",
    "    time.sleep(0.2)\n",
    "\n",
    "@EVA\n",
    "def EVA_Func02(a,b):\n",
    "    print('EVA_02',a+b)\n",
    "\n",
    "if __name__ =='__main__':\n",
    "    a=1\n",
    "    b=3\n",
    "    EVA_func01()\n",
    "    EVA_Func02(a,b)"
   ]
  },
  {
   "cell_type": "markdown",
   "metadata": {},
   "source": [
    "* 相应的，我们能在一个函数中应用多个扩展"
   ]
  },
  {
   "cell_type": "code",
   "execution_count": 15,
   "metadata": {},
   "outputs": [
    {
     "name": "stdout",
     "output_type": "stream",
     "text": [
      "start the second exploration\n",
      "运行中。。。。。。。。。。。\n",
      "运行结束\n",
      "The running time is : 5006.95538520813 ms\n",
      "over the second exploration\n"
     ]
    }
   ],
   "source": [
    "import time\n",
    "def EVA_1(func):\n",
    "    def wrapper(*w,**W):\n",
    "        starttime=time.time()\n",
    "        func(*w,**W)\n",
    "        endtime=time.time()\n",
    "        time.sleep(0.5)\n",
    "        print('The running time is :',(endtime-starttime)*1000,'ms')\n",
    "    return wrapper\n",
    "def EVA_2(func):\n",
    "    def wrapper(*w,**W):\n",
    "        print('start the second exploration')\n",
    "        time.sleep(1)\n",
    "        func(*w,**W)\n",
    "        print('over the second exploration')\n",
    "    return wrapper\n",
    "\n",
    "@EVA_2\n",
    "@EVA_1\n",
    "def Print():\n",
    "    print('运行中。',end='')\n",
    "    for i in range(10):\n",
    "        print('。',end='')\n",
    "        time.sleep(0.5)\n",
    "    print('')\n",
    "    print('运行结束')\n",
    "\n",
    "if __name__ =='__main__':\n",
    "    Print()\n",
    "\n"
   ]
  }
 ],
 "metadata": {
  "kernelspec": {
   "display_name": "Python 3.10.7 64-bit",
   "language": "python",
   "name": "python3"
  },
  "language_info": {
   "codemirror_mode": {
    "name": "ipython",
    "version": 3
   },
   "file_extension": ".py",
   "mimetype": "text/x-python",
   "name": "python",
   "nbconvert_exporter": "python",
   "pygments_lexer": "ipython3",
   "version": "3.10.7"
  },
  "orig_nbformat": 4,
  "vscode": {
   "interpreter": {
    "hash": "ea8748631029df754e0729d32df4b77a24037d1bd88384a6aa35512f89defdbb"
   }
  }
 },
 "nbformat": 4,
 "nbformat_minor": 2
}
