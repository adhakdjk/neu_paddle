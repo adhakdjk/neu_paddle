{
 "cells": [
  {
   "cell_type": "markdown",
   "metadata": {},
   "source": [
    "# 写了几大页的总结，不知道为什么没了，全没了,心情是真的炸裂\n",
    "* 学习成果如下"
   ]
  },
  {
   "cell_type": "code",
   "execution_count": 1,
   "metadata": {},
   "outputs": [
    {
     "name": "stdout",
     "output_type": "stream",
     "text": [
      "start the second exploration\n",
      "开始运行\n",
      "运行中..........\n",
      "3\n",
      "The running time is : 3005.194664001465 ms\n",
      "over the second exploration\n"
     ]
    }
   ],
   "source": [
    "import time\n",
    "def EVA_1(func):\n",
    "    def wrapper(*w,**W):\n",
    "        starttime=time.time()\n",
    "        func(*w,**W)\n",
    "        endtime=time.time()\n",
    "        time.sleep(1)\n",
    "        print('The running time is :',(endtime-starttime)*1000,'ms')\n",
    "    return wrapper\n",
    "def EVA_2(func):\n",
    "    def wrapper(*w,**W):\n",
    "        print('start the second exploration')\n",
    "        func(*w,**W)\n",
    "        print('over the second exploration')\n",
    "    return wrapper\n",
    "\n",
    "@EVA_2\n",
    "@EVA_1\n",
    "def Print(a=1,b=1000):\n",
    "    print('开始运行')\n",
    "    print('运行中',end='')\n",
    "    for i in range(10):\n",
    "        print('.',end='')\n",
    "        time.sleep(0.3)\n",
    "    print('')\n",
    "    print(a+b)\n",
    "\n",
    "if __name__ =='__main__':\n",
    "    a=1\n",
    "    b=1\n",
    "    Print(1,2)\n",
    "\n",
    "\n"
   ]
  },
  {
   "cell_type": "markdown",
   "metadata": {},
   "source": [
    "# 感觉就学这么多，不够啊"
   ]
  },
  {
   "cell_type": "markdown",
   "metadata": {},
   "source": [
    "## python面向对象已学完\n",
    "* 写写所学的知识,确切的来说class隔绝了所有主变量的请求"
   ]
  },
  {
   "cell_type": "code",
   "execution_count": 21,
   "metadata": {},
   "outputs": [
    {
     "name": "stdout",
     "output_type": "stream",
     "text": [
      "[[0.04711873]\n",
      " [0.34311385]\n",
      " [0.63619185]\n",
      " [0.42005623]\n",
      " [0.11574164]]\n",
      "7\n",
      "0\n"
     ]
    }
   ],
   "source": [
    "import numpy as np\n",
    "import pandas as pd\n",
    "class EVA(object):\n",
    "    def __init__(self,OK):\n",
    "        self.w=np.random.randn(OK,1)%1\n",
    "        self.h=np.random.randint(1,10)\n",
    "        print(self.w)\n",
    "        print(self.h)\n",
    "    def over_load(self,ko,fire):\n",
    "        s\n",
    "\n",
    "if __name__ =='__main__':\n",
    "    A=0\n",
    "    eva=EVA(5)\n",
    "    print(A)"
   ]
  }
 ],
 "metadata": {
  "kernelspec": {
   "display_name": "Python 3.10.7 64-bit",
   "language": "python",
   "name": "python3"
  },
  "language_info": {
   "codemirror_mode": {
    "name": "ipython",
    "version": 3
   },
   "file_extension": ".py",
   "mimetype": "text/x-python",
   "name": "python",
   "nbconvert_exporter": "python",
   "pygments_lexer": "ipython3",
   "version": "3.10.7"
  },
  "orig_nbformat": 4,
  "vscode": {
   "interpreter": {
    "hash": "ea8748631029df754e0729d32df4b77a24037d1bd88384a6aa35512f89defdbb"
   }
  }
 },
 "nbformat": 4,
 "nbformat_minor": 2
}
