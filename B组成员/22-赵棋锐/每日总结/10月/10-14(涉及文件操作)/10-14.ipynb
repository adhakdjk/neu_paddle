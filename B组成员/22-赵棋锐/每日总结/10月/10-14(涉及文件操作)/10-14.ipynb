{
 "cells": [
  {
   "cell_type": "markdown",
   "metadata": {},
   "source": [
    "# 开始今天的学习\n",
    "## 第一部分：AI飞桨：文件操作以及其常用模块的使用(半学习半复习)\n",
    "* 总的分类：输入，处理（标准化数据，切分数据，top3（最快的3个时间）），输出"
   ]
  },
  {
   "cell_type": "code",
   "execution_count": 1,
   "metadata": {},
   "outputs": [
    {
     "name": "stdout",
     "output_type": "stream",
     "text": [
      "Xiaoming  3-grade  18  690\n",
      "\n",
      "Xiaohong  3-grade  18  640\n",
      "\n",
      "Xiaoqian  2-grade  17  610\n",
      "公司\n"
     ]
    }
   ],
   "source": [
    "import numpy as np\n",
    "import pandas as pd\n",
    "import os\n",
    "import time as time\n",
    "f=open('EVA_01.txt')\n",
    "for line in f:\n",
    "    print(line)\n",
    "f.close()\n",
    "print('公司')"
   ]
  },
  {
   "cell_type": "code",
   "execution_count": 2,
   "metadata": {},
   "outputs": [
    {
     "name": "stdout",
     "output_type": "stream",
     "text": [
      "b'Xiaoming  3-grade  18  690\\r\\nXiaohong  3-grade  18  640\\r\\nXiaoqian  2-grade  17  610'\n"
     ]
    }
   ],
   "source": [
    "file1 = open(\"EVA_01.txt\", mode='rb+')\n",
    "data = file1.read().decode('gbk').encode('utf-8')\n",
    "print(data)"
   ]
  },
  {
   "cell_type": "markdown",
   "metadata": {},
   "source": [
    "## 以上是正常的数据，但当我们遇到异常的数据时\n",
    "* 例如下列的情况，我们使用try"
   ]
  },
  {
   "cell_type": "code",
   "execution_count": 3,
   "metadata": {},
   "outputs": [
    {
     "name": "stdout",
     "output_type": "stream",
     "text": [
      "Xiaoming,5.6,3-grade,18,690\n",
      "\n",
      "姓名： Xiaoming 生日： 5.6   年级： 3-grade  年龄：  18  成绩： ['690']\n",
      "Xiaohong,\n",
      "\n",
      "The line has question:\n",
      "Xiaoqian,2.19,2-grade,17,610\n",
      "姓名： Xiaoqian 生日： 2.19   年级： 2-grade  年龄：  17  成绩： ['610']\n"
     ]
    }
   ],
   "source": [
    "f_wrong=open(\"EVA_01_wrongdata.txt\")\n",
    "for line in f_wrong:\n",
    "    print(line)\n",
    "    data=line.strip().split(',')\n",
    "    try:\n",
    "        data_1=data.pop(0)\n",
    "        data_2=data.pop(0)\n",
    "        data_3=data.pop(0)\n",
    "        data_4=data.pop(0)\n",
    "        print('姓名：',data_1,'生日：',data_2,'  年级：',data_3,' 年龄： ',data_4,' 成绩：',str(data))\n",
    "    except:\n",
    "        print('The line has question:')\n",
    "f_wrong.close()"
   ]
  },
  {
   "cell_type": "markdown",
   "metadata": {},
   "source": [
    "## json的内容暂时还不理解，先学os"
   ]
  },
  {
   "cell_type": "code",
   "execution_count": 5,
   "metadata": {},
   "outputs": [
    {
     "name": "stdout",
     "output_type": "stream",
     "text": [
      "当前路径： <built-in function getcwd>\n"
     ]
    }
   ],
   "source": [
    "print('当前路径：',os.getcwd)"
   ]
  },
  {
   "cell_type": "code",
   "execution_count": null,
   "metadata": {},
   "outputs": [],
   "source": [
    "from pathlib import Path\n",
    "#返回当前绝对路径\n",
    "abs_path = os.path.abspath('')\n",
    "print('abs_path:'+abs_path)\n",
    "#路径是否存在\n",
    "Path(abs_path).exists()"
   ]
  },
  {
   "cell_type": "code",
   "execution_count": null,
   "metadata": {},
   "outputs": [],
   "source": [
    "import os\n",
    "listdir = os.listdir('/home/aistudio/work')\n",
    "\n",
    "target = []\n",
    "for name in listdir:\n",
    "    #防止文件名与文件夹名一样的情况\n",
    "    # print(os.path.isfile(name))\n",
    "    temp = name.split('.')\n",
    "    (filename,filetype) = (temp.pop(0),temp.pop(0))\n",
    "    if filetype == 'txt':\n",
    "        target.append(name)\n",
    "    # print('name:%s,type:%s' %(filename,filetype))\n",
    "\n",
    "print(target)"
   ]
  },
  {
   "cell_type": "markdown",
   "metadata": {},
   "source": [
    "# 进程与线程（压缩示例）\n",
    "* 进程：\n",
    "* 线程：\n",
    "* 下面是只是用进程的方式："
   ]
  },
  {
   "cell_type": "code",
   "execution_count": 1,
   "metadata": {},
   "outputs": [
    {
     "name": "stdout",
     "output_type": "stream",
     "text": [
      "EVA start compressing, please wait for a while :\n",
      "complete , it takes  1.565694808959961 ms to get it .\n",
      "the mission of compression is completed,what else could i help you?\n"
     ]
    }
   ],
   "source": [
    "import zipfile as zp\n",
    "import time\n",
    "print('EVA start compressing, please wait for a while :')\n",
    "starttime=time.time()\n",
    "infile=('EVA_security.txt')\n",
    "outfile=('EVA_after.zip')\n",
    "f=zp.ZipFile(outfile,'w',zp.ZIP_DEFLATED)\n",
    "f.write(infile)\n",
    "f.close()\n",
    "endtime=time.time()\n",
    "print('complete , it takes ',(endtime-starttime)*1000,'ms to get it .')\n",
    "time.sleep(0.6)\n",
    "print('the mission of compression is completed,what else could i help you?')\n",
    "\n"
   ]
  },
  {
   "cell_type": "markdown",
   "metadata": {},
   "source": [
    "* 那进程+线程有何优越性能？？  \n",
    "先来看看代码"
   ]
  },
  {
   "cell_type": "code",
   "execution_count": 1,
   "metadata": {},
   "outputs": [
    {
     "name": "stdout",
     "output_type": "stream",
     "text": [
      "the process is starting:\n",
      "complete , it takes  1.0380744934082031 ms to get it .\n",
      "EVA has completed compression, your folder is in -----> out.zip\n",
      "the mission of compression is completed,what else could i help you?\n"
     ]
    }
   ],
   "source": [
    "import threading\n",
    "import zipfile\n",
    "import time\n",
    "class EVA_zip(threading.Thread):\n",
    "    def __init__(self,infile,outfile):\n",
    "        threading.Thread.__init__(self)\n",
    "        self.infile=infile\n",
    "        self.outfile=outfile\n",
    "    def run(self):\n",
    "        f=zipfile.ZipFile(self.outfile,'w',zipfile.ZIP_DEFLATED)\n",
    "        f.write(self.infile)\n",
    "        f.close()\n",
    "        print('EVA has completed compression, your folder is in ----->',self.outfile)\n",
    "background=EVA_zip('xian.txt','out.zip')\n",
    "starttime=time.time()\n",
    "print('the process is starting:')\n",
    "background.start()\n",
    "endtime=time.time()\n",
    "print('complete , it takes ',(endtime-starttime)*1000,'ms to get it .')\n",
    "time.sleep(0.6)\n",
    "print('the mission of compression is completed,what else could i help you?')\n"
   ]
  },
  {
   "cell_type": "markdown",
   "metadata": {},
   "source": [
    "# 第二部分：深度学习\n",
    "* 任务理解多层神经网络\n"
   ]
  }
 ],
 "metadata": {
  "kernelspec": {
   "display_name": "Python 3.10.7 64-bit",
   "language": "python",
   "name": "python3"
  },
  "language_info": {
   "codemirror_mode": {
    "name": "ipython",
    "version": 3
   },
   "file_extension": ".py",
   "mimetype": "text/x-python",
   "name": "python",
   "nbconvert_exporter": "python",
   "pygments_lexer": "ipython3",
   "version": "3.10.7"
  },
  "orig_nbformat": 4,
  "vscode": {
   "interpreter": {
    "hash": "ea8748631029df754e0729d32df4b77a24037d1bd88384a6aa35512f89defdbb"
   }
  }
 },
 "nbformat": 4,
 "nbformat_minor": 2
}
