{
 "cells": [
  {
   "cell_type": "code",
   "execution_count": 5,
   "metadata": {},
   "outputs": [],
   "source": [
    "import pandas as pd\n",
    "import numpy as np\n",
    "import matplotlib.pyplot as plt"
   ]
  },
  {
   "cell_type": "code",
   "execution_count": 6,
   "metadata": {},
   "outputs": [],
   "source": [
    "#数学模型\n",
    "class Network(object):\n",
    "    def __init__(self,NUM):\n",
    "        np.random.seed(0)\n",
    "        self.w=np.random.randn(NUM,1)\n",
    "        self.b=0.0\n",
    "    def forward(self,x):\n",
    "        return np.dot(x,self.w)+self.b\n",
    "    def loss(self, z, y):\n",
    "        error=abs(z-y)\n",
    "        Num=error.shape[0]\n",
    "        cost=error*error\n",
    "        cost=np.sum(cost)/Num\n",
    "        return cost\n",
    "    #阶梯下降\n",
    "    def G(self,x,y):\n",
    "        z=self.forward(x)\n",
    "        G_w=(z-y)*x\n",
    "        G_w=np.mean(G_w,axis=0)\n",
    "        G_w=G_w[:,np.newaxis]\n",
    "        G_b=(z-y)\n",
    "        G_b=np.mean(G_b)\n",
    "        return G_w,G_b\n",
    "    def updata(self,G_w,G_b,temp=0.01):\n",
    "        self.w=self.w-temp*G_w\n",
    "        self.b=self.b-temp*G_b\n",
    "    def train(self,x,y,iterations=1000,eta=0.01):\n",
    "        losses=[]\n",
    "        for i in range(100):\n",
    "            z=self.forward(x)\n",
    "            L=self.loss(z,y)\n",
    "            G_w,G_b=self.G(x,y)\n",
    "            self.updata(G_w,G_b,eta)\n",
    "            losses.append(L)\n",
    "        return losses\n",
    "\n",
    "\n",
    "    "
   ]
  },
  {
   "cell_type": "code",
   "execution_count": 7,
   "metadata": {},
   "outputs": [
    {
     "name": "stdout",
     "output_type": "stream",
     "text": [
      "<class 'pandas.core.frame.DataFrame'>\n",
      "Int64Index: 4080 entries, 0 to 4319\n",
      "Data columns (total 9 columns):\n",
      " #   Column  Non-Null Count  Dtype \n",
      "---  ------  --------------  ----- \n",
      " 0   2       4080 non-null   object\n",
      " 1   3       4080 non-null   object\n",
      " 2   4       4080 non-null   object\n",
      " 3   5       4080 non-null   object\n",
      " 4   6       4080 non-null   object\n",
      " 5   7       4080 non-null   object\n",
      " 6   8       4080 non-null   object\n",
      " 7   9       4080 non-null   object\n",
      " 8   10      4080 non-null   object\n",
      "dtypes: object(9)\n",
      "memory usage: 318.8+ KB\n"
     ]
    }
   ],
   "source": [
    "f=pd.read_csv(\"test.csv\",header=None)\n",
    "for i in range(11):\n",
    "    f.drop(f[f[i].str.contains(pat='NR',regex=False)].index,inplace=True)\n",
    "f.drop(f[f[1].str.contains(pat='RAINFALL',regex=False)].index,inplace=True)\n",
    "del f[0]\n",
    "del f[1]\n",
    "f.info()"
   ]
  },
  {
   "cell_type": "code",
   "execution_count": 8,
   "metadata": {},
   "outputs": [],
   "source": [
    "data=np.array(f,dtype=float)\n",
    "data_real=data.mean(axis=1)\n",
    "data_real=data_real.reshape((240,17))\n",
    "data_real_max=data_real.max(axis=0)\n",
    "data_real_min=data_real.min(axis=0)\n",
    "# 归一化\n",
    "for i in range(17):\n",
    "    data_real[:,i]=(data_real[:,i]-data_real_min[i])/(data_real_max[i]-data_real_min[i])\n",
    "# 抽取预测对象\n",
    "data_PM25=data_real[:,9]\n",
    "data_PM25=data_PM25[:,np.newaxis]\n",
    "data_real=np.delete(data_real,9,axis=1)\n",
    "# 数据分组\n",
    "ratio=0.80\n",
    "offset=int(ratio*data_real.shape[0])\n",
    "training_data=data_real[:offset]\n",
    "test_data=data_real[offset:]\n"
   ]
  },
  {
   "cell_type": "code",
   "execution_count": 9,
   "metadata": {},
   "outputs": [
    {
     "data": {
      "text/plain": [
       "16"
      ]
     },
     "execution_count": 9,
     "metadata": {},
     "output_type": "execute_result"
    }
   ],
   "source": [
    "data_real.shape[1]"
   ]
  },
  {
   "cell_type": "code",
   "execution_count": 10,
   "metadata": {},
   "outputs": [],
   "source": [
    "# 获取数据\n",
    "x=data_real\n",
    "y=data_PM25\n",
    "# 创建网络\n",
    "net=Network(16)\n",
    "# 启动训练\n",
    "losses=net.train(x,y,iterations=1000,eta=0.01)\n"
   ]
  },
  {
   "cell_type": "code",
   "execution_count": 11,
   "metadata": {},
   "outputs": [
    {
     "data": {
      "image/png": "[encoded data removed]",
      "text/plain": [
       "<Figure size 640x480 with 1 Axes>"
      ]
     },
     "metadata": {},
     "output_type": "display_data"
    }
   ],
   "source": [
    "\n",
    "plot_x=np.arange(100)\n",
    "plot_y=np.array(losses)\n",
    "plt.plot(plot_x,plot_y)\n",
    "plt.show()"
   ]
  },
  {
   "cell_type": "code",
   "execution_count": 12,
   "metadata": {},
   "outputs": [
    {
     "data": {
      "text/plain": [
       "array([[2, 2, 2],\n",
       "       [5, 5, 5],\n",
       "       [3, 3, 3]])"
      ]
     },
     "execution_count": 12,
     "metadata": {},
     "output_type": "execute_result"
    }
   ],
   "source": [
    "list=[[1,1,1],[1,1,1],[1,1,1]]\n",
    "List=[2,5,3]\n",
    "L=np.array(list).reshape(3,3)\n",
    "l=np.array(List).reshape(3,1)\n",
    "l*L\n"
   ]
  }
 ],
 "metadata": {
  "kernelspec": {
   "display_name": "Python 3.10.7 64-bit",
   "language": "python",
   "name": "python3"
  },
  "language_info": {
   "codemirror_mode": {
    "name": "ipython",
    "version": 3
   },
   "file_extension": ".py",
   "mimetype": "text/x-python",
   "name": "python",
   "nbconvert_exporter": "python",
   "pygments_lexer": "ipython3",
   "version": "3.10.7"
  },
  "orig_nbformat": 4,
  "vscode": {
   "interpreter": {
    "hash": "ea8748631029df754e0729d32df4b77a24037d1bd88384a6aa35512f89defdbb"
   }
  }
 },
 "nbformat": 4,
 "nbformat_minor": 2
}
