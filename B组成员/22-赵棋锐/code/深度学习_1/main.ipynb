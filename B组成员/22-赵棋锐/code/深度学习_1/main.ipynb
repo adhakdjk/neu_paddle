{
 "cells": [
  {
   "cell_type": "code",
   "execution_count": 2,
   "metadata": {
    "collapsed": false,
    "execution": {
     "iopub.execute_input": "2022-10-06T08:33:24.002149Z",
     "iopub.status.busy": "2022-10-06T08:33:24.001043Z",
     "iopub.status.idle": "2022-10-06T08:33:24.235870Z",
     "shell.execute_reply": "2022-10-06T08:33:24.234590Z",
     "shell.execute_reply.started": "2022-10-06T08:33:24.002100Z"
    },
    "jupyter": {
     "outputs_hidden": false
    },
    "scrolled": true
   },
   "outputs": [],
   "source": [
    "# 查看当前挂载的数据集目录, 该目录下的变更重启环境后会自动还原\n",
    "# View dataset directory. \n",
    "# This directory will be recovered automatically after resetting environment. \n",
    "!ls /home/aistudio/data"
   ]
  },
  {
   "cell_type": "code",
   "execution_count": 3,
   "metadata": {
    "collapsed": false,
    "execution": {
     "iopub.execute_input": "2022-10-06T08:33:25.338593Z",
     "iopub.status.busy": "2022-10-06T08:33:25.337467Z",
     "iopub.status.idle": "2022-10-06T08:33:25.567670Z",
     "shell.execute_reply": "2022-10-06T08:33:25.566413Z",
     "shell.execute_reply.started": "2022-10-06T08:33:25.338546Z"
    },
    "jupyter": {
     "outputs_hidden": false
    },
    "scrolled": true
   },
   "outputs": [],
   "source": [
    "# 查看工作区文件, 该目录下的变更将会持久保存. 请及时清理不必要的文件, 避免加载过慢.\n",
    "# View personal work directory. \n",
    "# All changes under this directory will be kept even after reset. \n",
    "# Please clean unnecessary files in time to speed up environment loading. \n",
    "!ls /home/aistudio/work"
   ]
  },
  {
   "cell_type": "code",
   "execution_count": 4,
   "metadata": {
    "collapsed": false,
    "execution": {
     "iopub.execute_input": "2022-10-06T06:07:28.151595Z",
     "iopub.status.busy": "2022-10-06T06:07:28.151016Z",
     "iopub.status.idle": "2022-10-06T06:07:31.117928Z",
     "shell.execute_reply": "2022-10-06T06:07:31.116702Z",
     "shell.execute_reply.started": "2022-10-06T06:07:28.151558Z"
    },
    "jupyter": {
     "outputs_hidden": false
    },
    "scrolled": true
   },
   "outputs": [
    {
     "name": "stdout",
     "output_type": "stream",
     "text": [
      "mkdir: 无法创建目录\"/home/aistudio/external-libraries\": 文件已存在\n",
      "Looking in indexes: https://pypi.tuna.tsinghua.edu.cn/simple\n",
      "Collecting beautifulsoup4\n",
      "  Using cached https://pypi.tuna.tsinghua.edu.cn/packages/9c/d8/909c4089dbe4ade9f9705f143c9f13f065049a9d5e7d34c828aefdd0a97c/beautifulsoup4-4.11.1-py3-none-any.whl (128 kB)\n",
      "Collecting soupsieve>1.2\n",
      "  Using cached https://pypi.tuna.tsinghua.edu.cn/packages/16/e3/4ad79882b92617e3a4a0df1960d6bce08edfb637737ac5c3f3ba29022e25/soupsieve-2.3.2.post1-py3-none-any.whl (37 kB)\n",
      "Installing collected packages: soupsieve, beautifulsoup4\n",
      "Successfully installed beautifulsoup4-4.11.1 soupsieve-2.3.2.post1\n",
      "\u001b[33mWARNING: Target directory /home/aistudio/external-libraries/beautifulsoup4-4.11.1.dist-info already exists. Specify --upgrade to force replacement.\u001b[0m\u001b[33m\n",
      "\u001b[0m\u001b[33mWARNING: Target directory /home/aistudio/external-libraries/soupsieve already exists. Specify --upgrade to force replacement.\u001b[0m\u001b[33m\n",
      "\u001b[0m\u001b[33mWARNING: Target directory /home/aistudio/external-libraries/soupsieve-2.3.2.post1.dist-info already exists. Specify --upgrade to force replacement.\u001b[0m\u001b[33m\n",
      "\u001b[0m\u001b[33mWARNING: Target directory /home/aistudio/external-libraries/bs4 already exists. Specify --upgrade to force replacement.\u001b[0m\u001b[33m\n",
      "\u001b[0m\n",
      "\u001b[1m[\u001b[0m\u001b[34;49mnotice\u001b[0m\u001b[1;39;49m]\u001b[0m\u001b[39;49m A new release of pip available: \u001b[0m\u001b[31;49m22.1.2\u001b[0m\u001b[39;49m -> \u001b[0m\u001b[32;49m22.2.2\u001b[0m\n",
      "\u001b[1m[\u001b[0m\u001b[34;49mnotice\u001b[0m\u001b[1;39;49m]\u001b[0m\u001b[39;49m To update, run: \u001b[0m\u001b[32;49mpip install --upgrade pip\u001b[0m\n"
     ]
    }
   ],
   "source": [
    "# 如果需要进行持久化安装, 需要使用持久化路径, 如下方代码示例:\n",
    "# If a persistence installation is required, \n",
    "# you need to use the persistence path as the following: \n",
    "!mkdir /home/aistudio/external-libraries\n",
    "!pip install beautifulsoup4 -t /home/aistudio/external-libraries"
   ]
  },
  {
   "cell_type": "code",
   "execution_count": 4,
   "metadata": {
    "collapsed": false,
    "execution": {
     "iopub.execute_input": "2022-10-06T08:33:40.775514Z",
     "iopub.status.busy": "2022-10-06T08:33:40.774405Z",
     "iopub.status.idle": "2022-10-06T08:33:40.779166Z",
     "shell.execute_reply": "2022-10-06T08:33:40.778348Z",
     "shell.execute_reply.started": "2022-10-06T08:33:40.775465Z"
    },
    "jupyter": {
     "outputs_hidden": false
    },
    "scrolled": true
   },
   "outputs": [],
   "source": [
    "# 同时添加如下代码, 这样每次环境(kernel)启动的时候只要运行下方代码即可: \n",
    "# Also add the following code, \n",
    "# so that every time the environment (kernel) starts, \n",
    "# just run the following code: \n",
    "import sys \n",
    "sys.path.append('/home/aistudio/external-libraries')"
   ]
  },
  {
   "cell_type": "markdown",
   "metadata": {},
   "source": [
    "请点击[此处](https://ai.baidu.com/docs#/AIStudio_Project_Notebook/a38e5576)查看本环境基本用法.  <br>\n",
    "Please click [here ](https://ai.baidu.com/docs#/AIStudio_Project_Notebook/a38e5576) for more detailed instructions. "
   ]
  },
  {
   "cell_type": "code",
   "execution_count": 69,
   "metadata": {
    "execution": {
     "iopub.execute_input": "2022-10-06T09:22:15.260178Z",
     "iopub.status.busy": "2022-10-06T09:22:15.259365Z",
     "iopub.status.idle": "2022-10-06T09:22:15.283074Z",
     "shell.execute_reply": "2022-10-06T09:22:15.282202Z",
     "shell.execute_reply.started": "2022-10-06T09:22:15.260132Z"
    },
    "scrolled": true,
    "tags": []
   },
   "outputs": [
    {
     "name": "stdout",
     "output_type": "stream",
     "text": [
      "[[-0.61956458]\n",
      " [-0.70662486]\n",
      " [-0.23477669]\n",
      " [-0.83997484]\n",
      " [-1.59888081]\n",
      " [-2.30599738]]\n",
      "2.6970393626037708\n",
      "[[0.1]\n",
      " [0.2]\n",
      " [0.3]\n",
      " [0.4]\n",
      " [0.5]\n",
      " [0.6]]\n"
     ]
    }
   ],
   "source": [
    "import pandas as pd\n",
    "import numpy as py\n",
    "datafile='/home/aistudio/data/titanic.csv'\n",
    "f=pd.read_csv(datafile)\n",
    "del f['Name']\n",
    "del f['Ticket']\n",
    "del f['Sex']\n",
    "del f['Cabin']\n",
    "del f['Embarked']\n",
    "ceshi_data=f['Age'].dropna()\n",
    "mean_age=ceshi_data.mean(axis=0)\n",
    "#print(mean_age)\n",
    "f['Age']=f['Age'].fillna(mean_age)\n",
    "f_=py.array(f)\n",
    "#print(f_)\n",
    "maxx=f_.max(axis=0)\n",
    "minn=f_.min(axis=0)\n",
    "#print(maxx,end=',')\n",
    "#print(minn,end=',')\n",
    "avg=f_.mean(axis=0)\n",
    "for i in range(len(f_[0])):\n",
    "    f_[:,i]=(f_[:,i]-minn[i])/(maxx[i]-minn[i])\n",
    "#list\n",
    "ratio=0.80  #调节测试组数\n",
    "offset=int(ratio*f.shape[0])\n",
    "training_data=f_[:offset]\n",
    "ceshi_data=f_[offset:]\n",
    "training_data\n",
    "x=training_data[:,:-1]\n",
    "y=ceshi_data[:,:-1]\n",
    "# 设置数学模型\n",
    "w=[0.1,0.2,0.3,0.4,0.5,0.6]\n",
    "w=py.array(w).reshape([6,1])\n",
    "b=-0.2\n",
    "#print(w)\n",
    "W=w\n",
    "class Network(object):\n",
    "    # 随机化数学模型\n",
    "    def __init__(self,num_of_weights):\n",
    "        py.random.seed()\n",
    "        self.w=py.random.randn(num_of_weights,1)\n",
    "        print(self.w)\n",
    "        W=self.w\n",
    "        self.b=0.\n",
    "    # 计算函数的预测值\n",
    "    def forward(self,x):\n",
    "        z=py.dot(x,self.w)+self.b\n",
    "        return z\n",
    "    # 计算函数的损失值\n",
    "    def loss(self,z,y):\n",
    "        error=z-y\n",
    "        cost=error*error\n",
    "        cost=py.mean(cost)\n",
    "        return cost,W\n",
    "        \n",
    "\n",
    "net=Network(6)\n",
    "x1=x[0:100]\n",
    "y1=y[0:100]\n",
    "z=net.forward(x1)\n",
    "loss,W=net.loss(z,y1)\n",
    "print(loss)\n",
    "print(W)"
   ]
  },
  {
   "cell_type": "code",
   "execution_count": 216,
   "metadata": {
    "execution": {
     "iopub.execute_input": "2022-10-06T08:10:35.890847Z",
     "iopub.status.busy": "2022-10-06T08:10:35.890289Z",
     "iopub.status.idle": "2022-10-06T08:10:35.898967Z",
     "shell.execute_reply": "2022-10-06T08:10:35.897564Z",
     "shell.execute_reply.started": "2022-10-06T08:10:35.890812Z"
    },
    "scrolled": true
   },
   "outputs": [
    {
     "name": "stdout",
     "output_type": "stream",
     "text": [
      "[[ 1  2  3  4]\n",
      " [ 6  7  8  9]\n",
      " [11 12 13 14]\n",
      " [16 17 18 19]]\n",
      "[[ 1  2  3  4]\n",
      " [ 6  7  8  9]\n",
      " [11 12 13 14]\n",
      " [16 17 18 19]]\n"
     ]
    }
   ],
   "source": [
    "A=[[ 1,  2,  3,  4,  5],\n",
    "   [ 6,  7,  8,  9, 10],\n",
    "   [11, 12, 13, 14, 15],\n",
    "   [16, 17, 18, 19, 20]]\n",
    " \n",
    "A = py.array(A)\n",
    "print(A[:,:-1])\n",
    "print(A[:,:4])"
   ]
  },
  {
   "cell_type": "code",
   "execution_count": null,
   "metadata": {
    "scrolled": true
   },
   "outputs": [],
   "source": []
  }
 ],
 "metadata": {
  "kernelspec": {
   "display_name": "Python 3",
   "language": "python",
   "name": "py35-paddle1.2.0"
  },
  "language_info": {
   "codemirror_mode": {
    "name": "ipython",
    "version": 3
   },
   "file_extension": ".py",
   "mimetype": "text/x-python",
   "name": "python",
   "nbconvert_exporter": "python",
   "pygments_lexer": "ipython3",
   "version": "3.7.4"
  }
 },
 "nbformat": 4,
 "nbformat_minor": 4
}
